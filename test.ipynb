{
 "cells": [
  {
   "cell_type": "code",
   "execution_count": 1,
   "metadata": {},
   "outputs": [],
   "source": [
    "import pandas as pd"
   ]
  },
  {
   "cell_type": "code",
   "execution_count": 2,
   "metadata": {},
   "outputs": [],
   "source": [
    "df = pd.read_csv(\"tests/titanic.csv\")"
   ]
  },
  {
   "cell_type": "code",
   "execution_count": 3,
   "metadata": {},
   "outputs": [
    {
     "data": {
      "text/html": [
       "<div>\n",
       "<style scoped>\n",
       "    .dataframe tbody tr th:only-of-type {\n",
       "        vertical-align: middle;\n",
       "    }\n",
       "\n",
       "    .dataframe tbody tr th {\n",
       "        vertical-align: top;\n",
       "    }\n",
       "\n",
       "    .dataframe thead th {\n",
       "        text-align: right;\n",
       "    }\n",
       "</style>\n",
       "<table border=\"1\" class=\"dataframe\">\n",
       "  <thead>\n",
       "    <tr style=\"text-align: right;\">\n",
       "      <th></th>\n",
       "      <th>PassengerId</th>\n",
       "      <th>Survived</th>\n",
       "      <th>Pclass</th>\n",
       "      <th>Name</th>\n",
       "      <th>Sex</th>\n",
       "      <th>Age</th>\n",
       "      <th>SibSp</th>\n",
       "      <th>Parch</th>\n",
       "      <th>Ticket</th>\n",
       "      <th>Fare</th>\n",
       "      <th>Cabin</th>\n",
       "      <th>Embarked</th>\n",
       "    </tr>\n",
       "  </thead>\n",
       "  <tbody>\n",
       "    <tr>\n",
       "      <th>0</th>\n",
       "      <td>1</td>\n",
       "      <td>0</td>\n",
       "      <td>3</td>\n",
       "      <td>Braund, Mr. Owen Harris</td>\n",
       "      <td>male</td>\n",
       "      <td>22.0</td>\n",
       "      <td>1</td>\n",
       "      <td>0</td>\n",
       "      <td>A/5 21171</td>\n",
       "      <td>7.2500</td>\n",
       "      <td>NaN</td>\n",
       "      <td>S</td>\n",
       "    </tr>\n",
       "    <tr>\n",
       "      <th>1</th>\n",
       "      <td>2</td>\n",
       "      <td>1</td>\n",
       "      <td>1</td>\n",
       "      <td>Cumings, Mrs. John Bradley (Florence Briggs Th...</td>\n",
       "      <td>female</td>\n",
       "      <td>38.0</td>\n",
       "      <td>1</td>\n",
       "      <td>0</td>\n",
       "      <td>PC 17599</td>\n",
       "      <td>71.2833</td>\n",
       "      <td>C85</td>\n",
       "      <td>C</td>\n",
       "    </tr>\n",
       "    <tr>\n",
       "      <th>2</th>\n",
       "      <td>3</td>\n",
       "      <td>1</td>\n",
       "      <td>3</td>\n",
       "      <td>Heikkinen, Miss. Laina</td>\n",
       "      <td>female</td>\n",
       "      <td>26.0</td>\n",
       "      <td>0</td>\n",
       "      <td>0</td>\n",
       "      <td>STON/O2. 3101282</td>\n",
       "      <td>7.9250</td>\n",
       "      <td>NaN</td>\n",
       "      <td>S</td>\n",
       "    </tr>\n",
       "    <tr>\n",
       "      <th>3</th>\n",
       "      <td>4</td>\n",
       "      <td>1</td>\n",
       "      <td>1</td>\n",
       "      <td>Futrelle, Mrs. Jacques Heath (Lily May Peel)</td>\n",
       "      <td>female</td>\n",
       "      <td>35.0</td>\n",
       "      <td>1</td>\n",
       "      <td>0</td>\n",
       "      <td>113803</td>\n",
       "      <td>53.1000</td>\n",
       "      <td>C123</td>\n",
       "      <td>S</td>\n",
       "    </tr>\n",
       "    <tr>\n",
       "      <th>4</th>\n",
       "      <td>5</td>\n",
       "      <td>0</td>\n",
       "      <td>3</td>\n",
       "      <td>Allen, Mr. William Henry</td>\n",
       "      <td>male</td>\n",
       "      <td>35.0</td>\n",
       "      <td>0</td>\n",
       "      <td>0</td>\n",
       "      <td>373450</td>\n",
       "      <td>8.0500</td>\n",
       "      <td>NaN</td>\n",
       "      <td>S</td>\n",
       "    </tr>\n",
       "    <tr>\n",
       "      <th>...</th>\n",
       "      <td>...</td>\n",
       "      <td>...</td>\n",
       "      <td>...</td>\n",
       "      <td>...</td>\n",
       "      <td>...</td>\n",
       "      <td>...</td>\n",
       "      <td>...</td>\n",
       "      <td>...</td>\n",
       "      <td>...</td>\n",
       "      <td>...</td>\n",
       "      <td>...</td>\n",
       "      <td>...</td>\n",
       "    </tr>\n",
       "    <tr>\n",
       "      <th>886</th>\n",
       "      <td>887</td>\n",
       "      <td>0</td>\n",
       "      <td>2</td>\n",
       "      <td>Montvila, Rev. Juozas</td>\n",
       "      <td>male</td>\n",
       "      <td>27.0</td>\n",
       "      <td>0</td>\n",
       "      <td>0</td>\n",
       "      <td>211536</td>\n",
       "      <td>13.0000</td>\n",
       "      <td>NaN</td>\n",
       "      <td>S</td>\n",
       "    </tr>\n",
       "    <tr>\n",
       "      <th>887</th>\n",
       "      <td>888</td>\n",
       "      <td>1</td>\n",
       "      <td>1</td>\n",
       "      <td>Graham, Miss. Margaret Edith</td>\n",
       "      <td>female</td>\n",
       "      <td>19.0</td>\n",
       "      <td>0</td>\n",
       "      <td>0</td>\n",
       "      <td>112053</td>\n",
       "      <td>30.0000</td>\n",
       "      <td>B42</td>\n",
       "      <td>S</td>\n",
       "    </tr>\n",
       "    <tr>\n",
       "      <th>888</th>\n",
       "      <td>889</td>\n",
       "      <td>0</td>\n",
       "      <td>3</td>\n",
       "      <td>Johnston, Miss. Catherine Helen \"Carrie\"</td>\n",
       "      <td>female</td>\n",
       "      <td>NaN</td>\n",
       "      <td>1</td>\n",
       "      <td>2</td>\n",
       "      <td>W./C. 6607</td>\n",
       "      <td>23.4500</td>\n",
       "      <td>NaN</td>\n",
       "      <td>S</td>\n",
       "    </tr>\n",
       "    <tr>\n",
       "      <th>889</th>\n",
       "      <td>890</td>\n",
       "      <td>1</td>\n",
       "      <td>1</td>\n",
       "      <td>Behr, Mr. Karl Howell</td>\n",
       "      <td>male</td>\n",
       "      <td>26.0</td>\n",
       "      <td>0</td>\n",
       "      <td>0</td>\n",
       "      <td>111369</td>\n",
       "      <td>30.0000</td>\n",
       "      <td>C148</td>\n",
       "      <td>C</td>\n",
       "    </tr>\n",
       "    <tr>\n",
       "      <th>890</th>\n",
       "      <td>891</td>\n",
       "      <td>0</td>\n",
       "      <td>3</td>\n",
       "      <td>Dooley, Mr. Patrick</td>\n",
       "      <td>male</td>\n",
       "      <td>32.0</td>\n",
       "      <td>0</td>\n",
       "      <td>0</td>\n",
       "      <td>370376</td>\n",
       "      <td>7.7500</td>\n",
       "      <td>NaN</td>\n",
       "      <td>Q</td>\n",
       "    </tr>\n",
       "  </tbody>\n",
       "</table>\n",
       "<p>891 rows × 12 columns</p>\n",
       "</div>"
      ],
      "text/plain": [
       "     PassengerId  Survived  Pclass  \\\n",
       "0              1         0       3   \n",
       "1              2         1       1   \n",
       "2              3         1       3   \n",
       "3              4         1       1   \n",
       "4              5         0       3   \n",
       "..           ...       ...     ...   \n",
       "886          887         0       2   \n",
       "887          888         1       1   \n",
       "888          889         0       3   \n",
       "889          890         1       1   \n",
       "890          891         0       3   \n",
       "\n",
       "                                                  Name     Sex   Age  SibSp  \\\n",
       "0                              Braund, Mr. Owen Harris    male  22.0      1   \n",
       "1    Cumings, Mrs. John Bradley (Florence Briggs Th...  female  38.0      1   \n",
       "2                               Heikkinen, Miss. Laina  female  26.0      0   \n",
       "3         Futrelle, Mrs. Jacques Heath (Lily May Peel)  female  35.0      1   \n",
       "4                             Allen, Mr. William Henry    male  35.0      0   \n",
       "..                                                 ...     ...   ...    ...   \n",
       "886                              Montvila, Rev. Juozas    male  27.0      0   \n",
       "887                       Graham, Miss. Margaret Edith  female  19.0      0   \n",
       "888           Johnston, Miss. Catherine Helen \"Carrie\"  female   NaN      1   \n",
       "889                              Behr, Mr. Karl Howell    male  26.0      0   \n",
       "890                                Dooley, Mr. Patrick    male  32.0      0   \n",
       "\n",
       "     Parch            Ticket     Fare Cabin Embarked  \n",
       "0        0         A/5 21171   7.2500   NaN        S  \n",
       "1        0          PC 17599  71.2833   C85        C  \n",
       "2        0  STON/O2. 3101282   7.9250   NaN        S  \n",
       "3        0            113803  53.1000  C123        S  \n",
       "4        0            373450   8.0500   NaN        S  \n",
       "..     ...               ...      ...   ...      ...  \n",
       "886      0            211536  13.0000   NaN        S  \n",
       "887      0            112053  30.0000   B42        S  \n",
       "888      2        W./C. 6607  23.4500   NaN        S  \n",
       "889      0            111369  30.0000  C148        C  \n",
       "890      0            370376   7.7500   NaN        Q  \n",
       "\n",
       "[891 rows x 12 columns]"
      ]
     },
     "execution_count": 3,
     "metadata": {},
     "output_type": "execute_result"
    }
   ],
   "source": [
    "df"
   ]
  },
  {
   "cell_type": "code",
   "execution_count": 4,
   "metadata": {},
   "outputs": [
    {
     "name": "stderr",
     "output_type": "stream",
     "text": [
      "/Users/fzhu/Documents/GitHub/model_helper/test_env/lib/python3.10/site-packages/tqdm/auto.py:22: TqdmWarning: IProgress not found. Please update jupyter and ipywidgets. See https://ipywidgets.readthedocs.io/en/stable/user_install.html\n",
      "  from .autonotebook import tqdm as notebook_tqdm\n",
      "pandas.Int64Index is deprecated and will be removed from pandas in a future version. Use pandas.Index with the appropriate dtype instead.\n"
     ]
    }
   ],
   "source": [
    "import modelflow.clean as mhc\n",
    "from sklearn.preprocessing import MinMaxScaler"
   ]
  },
  {
   "cell_type": "code",
   "execution_count": 5,
   "metadata": {},
   "outputs": [],
   "source": [
    "cat = [\"Sex\", \"Cabin\"]\n",
    "cont = [\"Age\", \"Fare\"]"
   ]
  },
  {
   "cell_type": "code",
   "execution_count": 6,
   "metadata": {},
   "outputs": [],
   "source": [
    "x = mhc.prepare_data(\n",
    "    df,\n",
    "    cat,\n",
    "    cont,\n",
    "    dep_var=\"Survived\",\n",
    "    return_class=True,\n",
    "    cat_strategy=\"one_hot\",\n",
    "    cont_transformations=[MinMaxScaler],\n",
    ")"
   ]
  },
  {
   "cell_type": "code",
   "execution_count": 7,
   "metadata": {},
   "outputs": [],
   "source": [
    "from modelflow.models import rf_class"
   ]
  },
  {
   "cell_type": "code",
   "execution_count": 8,
   "metadata": {},
   "outputs": [],
   "source": [
    "m1 = rf_class(x.train_xs, x.train_y)\n",
    "m2 = rf_class(x.train_xs, x.train_y)\n",
    "m3 = rf_class(x.train_xs, x.train_y)\n",
    "m4 = rf_class(x.train_xs, x.train_y)\n",
    "m5 = rf_class(x.train_xs, x.train_y)"
   ]
  },
  {
   "cell_type": "code",
   "execution_count": 9,
   "metadata": {},
   "outputs": [],
   "source": [
    "from modelflow.explain import plot_ale"
   ]
  },
  {
   "cell_type": "code",
   "execution_count": 11,
   "metadata": {},
   "outputs": [
    {
     "ename": "ValueError",
     "evalue": "Mime type rendering requires nbformat>=4.2.0 but it is not installed",
     "output_type": "error",
     "traceback": [
      "\u001b[0;31m---------------------------------------------------------------------------\u001b[0m",
      "\u001b[0;31mValueError\u001b[0m                                Traceback (most recent call last)",
      "File \u001b[0;32m~/Documents/GitHub/model_helper/test_env/lib/python3.10/site-packages/IPython/core/formatters.py:921\u001b[0m, in \u001b[0;36mIPythonDisplayFormatter.__call__\u001b[0;34m(self, obj)\u001b[0m\n\u001b[1;32m    <a href='file:///Users/fzhu/Documents/GitHub/model_helper/test_env/lib/python3.10/site-packages/IPython/core/formatters.py?line=918'>919</a>\u001b[0m method \u001b[39m=\u001b[39m get_real_method(obj, \u001b[39mself\u001b[39m\u001b[39m.\u001b[39mprint_method)\n\u001b[1;32m    <a href='file:///Users/fzhu/Documents/GitHub/model_helper/test_env/lib/python3.10/site-packages/IPython/core/formatters.py?line=919'>920</a>\u001b[0m \u001b[39mif\u001b[39;00m method \u001b[39mis\u001b[39;00m \u001b[39mnot\u001b[39;00m \u001b[39mNone\u001b[39;00m:\n\u001b[0;32m--> <a href='file:///Users/fzhu/Documents/GitHub/model_helper/test_env/lib/python3.10/site-packages/IPython/core/formatters.py?line=920'>921</a>\u001b[0m     method()\n\u001b[1;32m    <a href='file:///Users/fzhu/Documents/GitHub/model_helper/test_env/lib/python3.10/site-packages/IPython/core/formatters.py?line=921'>922</a>\u001b[0m     \u001b[39mreturn\u001b[39;00m \u001b[39mTrue\u001b[39;00m\n",
      "File \u001b[0;32m~/Documents/GitHub/model_helper/test_env/lib/python3.10/site-packages/plotly/basedatatypes.py:844\u001b[0m, in \u001b[0;36mBaseFigure._ipython_display_\u001b[0;34m(self)\u001b[0m\n\u001b[1;32m    <a href='file:///Users/fzhu/Documents/GitHub/model_helper/test_env/lib/python3.10/site-packages/plotly/basedatatypes.py?line=840'>841</a>\u001b[0m \u001b[39mimport\u001b[39;00m \u001b[39mplotly\u001b[39;00m\u001b[39m.\u001b[39;00m\u001b[39mio\u001b[39;00m \u001b[39mas\u001b[39;00m \u001b[39mpio\u001b[39;00m\n\u001b[1;32m    <a href='file:///Users/fzhu/Documents/GitHub/model_helper/test_env/lib/python3.10/site-packages/plotly/basedatatypes.py?line=842'>843</a>\u001b[0m \u001b[39mif\u001b[39;00m pio\u001b[39m.\u001b[39mrenderers\u001b[39m.\u001b[39mrender_on_display \u001b[39mand\u001b[39;00m pio\u001b[39m.\u001b[39mrenderers\u001b[39m.\u001b[39mdefault:\n\u001b[0;32m--> <a href='file:///Users/fzhu/Documents/GitHub/model_helper/test_env/lib/python3.10/site-packages/plotly/basedatatypes.py?line=843'>844</a>\u001b[0m     pio\u001b[39m.\u001b[39;49mshow(\u001b[39mself\u001b[39;49m)\n\u001b[1;32m    <a href='file:///Users/fzhu/Documents/GitHub/model_helper/test_env/lib/python3.10/site-packages/plotly/basedatatypes.py?line=844'>845</a>\u001b[0m \u001b[39melse\u001b[39;00m:\n\u001b[1;32m    <a href='file:///Users/fzhu/Documents/GitHub/model_helper/test_env/lib/python3.10/site-packages/plotly/basedatatypes.py?line=845'>846</a>\u001b[0m     \u001b[39mprint\u001b[39m(\u001b[39mrepr\u001b[39m(\u001b[39mself\u001b[39m))\n",
      "File \u001b[0;32m~/Documents/GitHub/model_helper/test_env/lib/python3.10/site-packages/plotly/io/_renderers.py:397\u001b[0m, in \u001b[0;36mshow\u001b[0;34m(fig, renderer, validate, **kwargs)\u001b[0m\n\u001b[1;32m    <a href='file:///Users/fzhu/Documents/GitHub/model_helper/test_env/lib/python3.10/site-packages/plotly/io/_renderers.py?line=391'>392</a>\u001b[0m         \u001b[39mraise\u001b[39;00m \u001b[39mValueError\u001b[39;00m(\n\u001b[1;32m    <a href='file:///Users/fzhu/Documents/GitHub/model_helper/test_env/lib/python3.10/site-packages/plotly/io/_renderers.py?line=392'>393</a>\u001b[0m             \u001b[39m\"\u001b[39m\u001b[39mMime type rendering requires ipython but it is not installed\u001b[39m\u001b[39m\"\u001b[39m\n\u001b[1;32m    <a href='file:///Users/fzhu/Documents/GitHub/model_helper/test_env/lib/python3.10/site-packages/plotly/io/_renderers.py?line=393'>394</a>\u001b[0m         )\n\u001b[1;32m    <a href='file:///Users/fzhu/Documents/GitHub/model_helper/test_env/lib/python3.10/site-packages/plotly/io/_renderers.py?line=395'>396</a>\u001b[0m     \u001b[39mif\u001b[39;00m \u001b[39mnot\u001b[39;00m nbformat \u001b[39mor\u001b[39;00m LooseVersion(nbformat\u001b[39m.\u001b[39m__version__) \u001b[39m<\u001b[39m LooseVersion(\u001b[39m\"\u001b[39m\u001b[39m4.2.0\u001b[39m\u001b[39m\"\u001b[39m):\n\u001b[0;32m--> <a href='file:///Users/fzhu/Documents/GitHub/model_helper/test_env/lib/python3.10/site-packages/plotly/io/_renderers.py?line=396'>397</a>\u001b[0m         \u001b[39mraise\u001b[39;00m \u001b[39mValueError\u001b[39;00m(\n\u001b[1;32m    <a href='file:///Users/fzhu/Documents/GitHub/model_helper/test_env/lib/python3.10/site-packages/plotly/io/_renderers.py?line=397'>398</a>\u001b[0m             \u001b[39m\"\u001b[39m\u001b[39mMime type rendering requires nbformat>=4.2.0 but it is not installed\u001b[39m\u001b[39m\"\u001b[39m\n\u001b[1;32m    <a href='file:///Users/fzhu/Documents/GitHub/model_helper/test_env/lib/python3.10/site-packages/plotly/io/_renderers.py?line=398'>399</a>\u001b[0m         )\n\u001b[1;32m    <a href='file:///Users/fzhu/Documents/GitHub/model_helper/test_env/lib/python3.10/site-packages/plotly/io/_renderers.py?line=400'>401</a>\u001b[0m     ipython_display\u001b[39m.\u001b[39mdisplay(bundle, raw\u001b[39m=\u001b[39m\u001b[39mTrue\u001b[39;00m)\n\u001b[1;32m    <a href='file:///Users/fzhu/Documents/GitHub/model_helper/test_env/lib/python3.10/site-packages/plotly/io/_renderers.py?line=402'>403</a>\u001b[0m \u001b[39m# external renderers\u001b[39;00m\n",
      "\u001b[0;31mValueError\u001b[0m: Mime type rendering requires nbformat>=4.2.0 but it is not installed"
     ]
    },
    {
     "data": {
      "application/vnd.plotly.v1+json": {
       "config": {
        "plotlyServerURL": "https://plot.ly"
       },
       "data": [
        {
         "line": {
          "color": "#0052CC"
         },
         "mode": "lines",
         "name": "Model 0",
         "type": "scatter",
         "x": [
          "0.00",
          "0.00 - 0.07",
          "0.07 - 0.20",
          "0.20 - 0.22",
          "0.22 - 0.25",
          "0.25 - 0.27",
          "0.27 - 0.30",
          "0.30 - 0.32",
          "0.32 - 0.35",
          "0.35 - 0.37",
          "0.37 - 0.40",
          "0.40 - 0.43",
          "0.43 - 0.47",
          "0.47 - 0.52",
          "0.52 - 0.59",
          "0.59 - 0.67",
          "0.67+"
         ],
         "xaxis": "x",
         "y": [
          0,
          -0.2553191489361702,
          -0.5194700923323966,
          -0.5194700923323966,
          -0.5194700923323966,
          -0.5194700923323966,
          -0.5194700923323966,
          -0.49566056852287277,
          -0.49566056852287277,
          -0.5169371642675537,
          -0.5169371642675537,
          -0.5169371642675537,
          -0.5169371642675537,
          -0.5169371642675537,
          -0.5419371642675537,
          -0.5844903557569153,
          -0.5844903557569153
         ],
         "yaxis": "y2"
        },
        {
         "line": {
          "width": 0
         },
         "marker": {
          "color": "#444"
         },
         "mode": "lines",
         "name": "Upper Bound",
         "showlegend": false,
         "type": "scatter",
         "x": [
          "0.00",
          "0.00 - 0.07",
          "0.07 - 0.20",
          "0.20 - 0.22",
          "0.22 - 0.25",
          "0.25 - 0.27",
          "0.27 - 0.30",
          "0.30 - 0.32",
          "0.32 - 0.35",
          "0.35 - 0.37",
          "0.37 - 0.40",
          "0.40 - 0.43",
          "0.43 - 0.47",
          "0.47 - 0.52",
          "0.52 - 0.59",
          "0.59 - 0.67",
          "0.67+"
         ],
         "xaxis": "x",
         "y": [
          null,
          -0.12590876641044446,
          -0.3967855866324483,
          -0.5194700923323966,
          -0.5194700923323966,
          -0.5194700923323966,
          -0.5194700923323966,
          -0.4475762598566134,
          -0.49566056852287277,
          -0.474109598410222,
          -0.5169371642675537,
          -0.5169371642675537,
          -0.5169371642675537,
          -0.5169371642675537,
          -0.49136989147418547,
          -0.5245849891261296,
          -0.5844903557569153
         ],
         "yaxis": "y2"
        },
        {
         "fill": "tonexty",
         "fillcolor": "rgba(68, 68, 68, 0.3)",
         "line": {
          "width": 0
         },
         "marker": {
          "color": "#444"
         },
         "mode": "lines",
         "name": "Lower Bound",
         "showlegend": false,
         "type": "scatter",
         "x": [
          "0.00",
          "0.00 - 0.07",
          "0.07 - 0.20",
          "0.20 - 0.22",
          "0.22 - 0.25",
          "0.25 - 0.27",
          "0.27 - 0.30",
          "0.30 - 0.32",
          "0.32 - 0.35",
          "0.35 - 0.37",
          "0.37 - 0.40",
          "0.40 - 0.43",
          "0.43 - 0.47",
          "0.47 - 0.52",
          "0.52 - 0.59",
          "0.59 - 0.67",
          "0.67+"
         ],
         "xaxis": "x",
         "y": [
          null,
          -0.3847295314618959,
          -0.6421545980323449,
          -0.5194700923323966,
          -0.5194700923323966,
          -0.5194700923323966,
          -0.5194700923323966,
          -0.5437448771891321,
          -0.49566056852287277,
          -0.5597647301248854,
          -0.5169371642675537,
          -0.5169371642675537,
          -0.5169371642675537,
          -0.5169371642675537,
          -0.5925044370609218,
          -0.644395722387701,
          -0.5844903557569153
         ],
         "yaxis": "y2"
        },
        {
         "line": {
          "color": "#FF5630"
         },
         "mode": "lines",
         "name": "Model 1",
         "type": "scatter",
         "x": [
          "0.00",
          "0.00 - 0.07",
          "0.07 - 0.20",
          "0.20 - 0.22",
          "0.22 - 0.25",
          "0.25 - 0.27",
          "0.27 - 0.30",
          "0.30 - 0.32",
          "0.32 - 0.35",
          "0.35 - 0.37",
          "0.37 - 0.40",
          "0.40 - 0.43",
          "0.43 - 0.47",
          "0.47 - 0.52",
          "0.52 - 0.59",
          "0.59 - 0.67",
          "0.67+"
         ],
         "xaxis": "x",
         "y": [
          0,
          -0.2765957446808511,
          -0.4275391409072662,
          -0.4275391409072662,
          -0.4275391409072662,
          -0.4275391409072662,
          -0.4275391409072662,
          -0.3799200932882186,
          -0.3799200932882186,
          -0.3799200932882186,
          -0.3799200932882186,
          -0.3799200932882186,
          -0.3799200932882186,
          -0.3799200932882186,
          -0.3799200932882186,
          -0.3799200932882186,
          -0.3799200932882186
         ],
         "yaxis": "y2"
        },
        {
         "line": {
          "width": 0
         },
         "marker": {
          "color": "#444"
         },
         "mode": "lines",
         "name": "Upper Bound",
         "showlegend": false,
         "type": "scatter",
         "x": [
          "0.00",
          "0.00 - 0.07",
          "0.07 - 0.20",
          "0.20 - 0.22",
          "0.22 - 0.25",
          "0.25 - 0.27",
          "0.27 - 0.30",
          "0.30 - 0.32",
          "0.32 - 0.35",
          "0.35 - 0.37",
          "0.37 - 0.40",
          "0.40 - 0.43",
          "0.43 - 0.47",
          "0.47 - 0.52",
          "0.52 - 0.59",
          "0.59 - 0.67",
          "0.67+"
         ],
         "xaxis": "x",
         "y": [
          null,
          -0.14383930083571397,
          -0.3279195746481563,
          -0.4275391409072662,
          -0.4275391409072662,
          -0.4275391409072662,
          -0.4275391409072662,
          -0.3127530174409161,
          -0.3799200932882186,
          -0.3799200932882186,
          -0.3799200932882186,
          -0.3799200932882186,
          -0.3799200932882186,
          -0.3799200932882186,
          -0.3799200932882186,
          -0.3799200932882186,
          -0.3799200932882186
         ],
         "yaxis": "y2"
        },
        {
         "fill": "tonexty",
         "fillcolor": "rgba(68, 68, 68, 0.3)",
         "line": {
          "width": 0
         },
         "marker": {
          "color": "#444"
         },
         "mode": "lines",
         "name": "Lower Bound",
         "showlegend": false,
         "type": "scatter",
         "x": [
          "0.00",
          "0.00 - 0.07",
          "0.07 - 0.20",
          "0.20 - 0.22",
          "0.22 - 0.25",
          "0.25 - 0.27",
          "0.27 - 0.30",
          "0.30 - 0.32",
          "0.32 - 0.35",
          "0.35 - 0.37",
          "0.37 - 0.40",
          "0.40 - 0.43",
          "0.43 - 0.47",
          "0.47 - 0.52",
          "0.52 - 0.59",
          "0.59 - 0.67",
          "0.67+"
         ],
         "xaxis": "x",
         "y": [
          null,
          -0.4093521885259882,
          -0.5271587071663761,
          -0.4275391409072662,
          -0.4275391409072662,
          -0.4275391409072662,
          -0.4275391409072662,
          -0.44708716913552105,
          -0.3799200932882186,
          -0.3799200932882186,
          -0.3799200932882186,
          -0.3799200932882186,
          -0.3799200932882186,
          -0.3799200932882186,
          -0.3799200932882186,
          -0.3799200932882186,
          -0.3799200932882186
         ],
         "yaxis": "y2"
        },
        {
         "line": {
          "color": "#FFAB00"
         },
         "mode": "lines",
         "name": "Model 2",
         "type": "scatter",
         "x": [
          "0.00",
          "0.00 - 0.07",
          "0.07 - 0.20",
          "0.20 - 0.22",
          "0.22 - 0.25",
          "0.25 - 0.27",
          "0.27 - 0.30",
          "0.30 - 0.32",
          "0.32 - 0.35",
          "0.35 - 0.37",
          "0.37 - 0.40",
          "0.40 - 0.43",
          "0.43 - 0.47",
          "0.47 - 0.52",
          "0.52 - 0.59",
          "0.59 - 0.67",
          "0.67+"
         ],
         "xaxis": "x",
         "y": [
          0,
          -0.2765957446808511,
          -0.5218787635487756,
          -0.5218787635487756,
          -0.5218787635487756,
          -0.5218787635487756,
          -0.5218787635487756,
          -0.5218787635487756,
          -0.5491514908215028,
          -0.5491514908215028,
          -0.5491514908215028,
          -0.5491514908215028,
          -0.5491514908215028,
          -0.5491514908215028,
          -0.5491514908215028,
          -0.6129812780555454,
          -0.6129812780555454
         ],
         "yaxis": "y2"
        },
        {
         "line": {
          "width": 0
         },
         "marker": {
          "color": "#444"
         },
         "mode": "lines",
         "name": "Upper Bound",
         "showlegend": false,
         "type": "scatter",
         "x": [
          "0.00",
          "0.00 - 0.07",
          "0.07 - 0.20",
          "0.20 - 0.22",
          "0.22 - 0.25",
          "0.25 - 0.27",
          "0.27 - 0.30",
          "0.30 - 0.32",
          "0.32 - 0.35",
          "0.35 - 0.37",
          "0.37 - 0.40",
          "0.40 - 0.43",
          "0.43 - 0.47",
          "0.47 - 0.52",
          "0.52 - 0.59",
          "0.59 - 0.67",
          "0.67+"
         ],
         "xaxis": "x",
         "y": [
          null,
          -0.11810104237764485,
          -0.40215094548654123,
          -0.5218787635487756,
          -0.5218787635487756,
          -0.5218787635487756,
          -0.5218787635487756,
          -0.5218787635487756,
          -0.5274598438362246,
          -0.5491514908215028,
          -0.5491514908215028,
          -0.5491514908215028,
          -0.5491514908215028,
          -0.5491514908215028,
          -0.5491514908215028,
          -0.5404322762587299,
          -0.6129812780555454
         ],
         "yaxis": "y2"
        },
        {
         "fill": "tonexty",
         "fillcolor": "rgba(68, 68, 68, 0.3)",
         "line": {
          "width": 0
         },
         "marker": {
          "color": "#444"
         },
         "mode": "lines",
         "name": "Lower Bound",
         "showlegend": false,
         "type": "scatter",
         "x": [
          "0.00",
          "0.00 - 0.07",
          "0.07 - 0.20",
          "0.20 - 0.22",
          "0.22 - 0.25",
          "0.25 - 0.27",
          "0.27 - 0.30",
          "0.30 - 0.32",
          "0.32 - 0.35",
          "0.35 - 0.37",
          "0.37 - 0.40",
          "0.40 - 0.43",
          "0.43 - 0.47",
          "0.47 - 0.52",
          "0.52 - 0.59",
          "0.59 - 0.67",
          "0.67+"
         ],
         "xaxis": "x",
         "y": [
          null,
          -0.4350904469840573,
          -0.6416065816110099,
          -0.5218787635487756,
          -0.5218787635487756,
          -0.5218787635487756,
          -0.5218787635487756,
          -0.5218787635487756,
          -0.5708431378067811,
          -0.5491514908215028,
          -0.5491514908215028,
          -0.5491514908215028,
          -0.5491514908215028,
          -0.5491514908215028,
          -0.5491514908215028,
          -0.6855302798523608,
          -0.6129812780555454
         ],
         "yaxis": "y2"
        },
        {
         "line": {
          "color": "#36B37E"
         },
         "mode": "lines",
         "name": "Model 3",
         "type": "scatter",
         "x": [
          "0.00",
          "0.00 - 0.07",
          "0.07 - 0.20",
          "0.20 - 0.22",
          "0.22 - 0.25",
          "0.25 - 0.27",
          "0.27 - 0.30",
          "0.30 - 0.32",
          "0.32 - 0.35",
          "0.35 - 0.37",
          "0.37 - 0.40",
          "0.40 - 0.43",
          "0.43 - 0.47",
          "0.47 - 0.52",
          "0.52 - 0.59",
          "0.59 - 0.67",
          "0.67+"
         ],
         "xaxis": "x",
         "y": [
          0,
          -0.425531914893617,
          -0.4632677639502208,
          -0.4632677639502208,
          -0.4632677639502208,
          -0.4632677639502208,
          -0.4632677639502208,
          -0.4632677639502208,
          -0.4632677639502208,
          -0.4632677639502208,
          -0.4632677639502208,
          -0.4632677639502208,
          -0.5382677639502208,
          -0.5382677639502208,
          -0.5382677639502208,
          -0.5808209554395825,
          -0.5808209554395825
         ],
         "yaxis": "y2"
        },
        {
         "line": {
          "width": 0
         },
         "marker": {
          "color": "#444"
         },
         "mode": "lines",
         "name": "Upper Bound",
         "showlegend": false,
         "type": "scatter",
         "x": [
          "0.00",
          "0.00 - 0.07",
          "0.07 - 0.20",
          "0.20 - 0.22",
          "0.22 - 0.25",
          "0.25 - 0.27",
          "0.27 - 0.30",
          "0.30 - 0.32",
          "0.32 - 0.35",
          "0.35 - 0.37",
          "0.37 - 0.40",
          "0.40 - 0.43",
          "0.43 - 0.47",
          "0.47 - 0.52",
          "0.52 - 0.59",
          "0.59 - 0.67",
          "0.67+"
         ],
         "xaxis": "x",
         "y": [
          null,
          -0.2787943337938418,
          -0.41024120053022284,
          -0.4632677639502208,
          -0.4632677639502208,
          -0.4632677639502208,
          -0.4632677639502208,
          -0.4632677639502208,
          -0.4632677639502208,
          -0.4632677639502208,
          -0.4632677639502208,
          -0.4632677639502208,
          -0.452958004441313,
          -0.5382677639502208,
          -0.5382677639502208,
          -0.5209155888087967,
          -0.5808209554395825
         ],
         "yaxis": "y2"
        },
        {
         "fill": "tonexty",
         "fillcolor": "rgba(68, 68, 68, 0.3)",
         "line": {
          "width": 0
         },
         "marker": {
          "color": "#444"
         },
         "mode": "lines",
         "name": "Lower Bound",
         "showlegend": false,
         "type": "scatter",
         "x": [
          "0.00",
          "0.00 - 0.07",
          "0.07 - 0.20",
          "0.20 - 0.22",
          "0.22 - 0.25",
          "0.25 - 0.27",
          "0.27 - 0.30",
          "0.30 - 0.32",
          "0.32 - 0.35",
          "0.35 - 0.37",
          "0.37 - 0.40",
          "0.40 - 0.43",
          "0.43 - 0.47",
          "0.47 - 0.52",
          "0.52 - 0.59",
          "0.59 - 0.67",
          "0.67+"
         ],
         "xaxis": "x",
         "y": [
          null,
          -0.5722694959933923,
          -0.5162943273702187,
          -0.4632677639502208,
          -0.4632677639502208,
          -0.4632677639502208,
          -0.4632677639502208,
          -0.4632677639502208,
          -0.4632677639502208,
          -0.4632677639502208,
          -0.4632677639502208,
          -0.4632677639502208,
          -0.6235775234591285,
          -0.5382677639502208,
          -0.5382677639502208,
          -0.6407263220703682,
          -0.5808209554395825
         ],
         "yaxis": "y2"
        },
        {
         "marker": {
          "color": "#C1C7D0"
         },
         "name": "Frequency",
         "type": "bar",
         "x": [
          "0.00",
          "0.00 - 0.07",
          "0.07 - 0.20",
          "0.20 - 0.22",
          "0.22 - 0.25",
          "0.25 - 0.27",
          "0.27 - 0.30",
          "0.30 - 0.32",
          "0.32 - 0.35",
          "0.35 - 0.37",
          "0.37 - 0.40",
          "0.40 - 0.43",
          "0.43 - 0.47",
          "0.47 - 0.52",
          "0.52 - 0.59",
          "0.59 - 0.67",
          "0.67+"
         ],
         "xaxis": "x",
         "y": [
          0,
          47,
          53,
          39,
          40,
          52,
          46,
          42,
          220,
          47,
          39,
          49,
          40,
          48,
          40,
          47,
          42
         ],
         "yaxis": "y"
        }
       ],
       "layout": {
        "plot_bgcolor": "white",
        "template": {
         "data": {
          "bar": [
           {
            "error_x": {
             "color": "#2a3f5f"
            },
            "error_y": {
             "color": "#2a3f5f"
            },
            "marker": {
             "line": {
              "color": "#E5ECF6",
              "width": 0.5
             },
             "pattern": {
              "fillmode": "overlay",
              "size": 10,
              "solidity": 0.2
             }
            },
            "type": "bar"
           }
          ],
          "barpolar": [
           {
            "marker": {
             "line": {
              "color": "#E5ECF6",
              "width": 0.5
             },
             "pattern": {
              "fillmode": "overlay",
              "size": 10,
              "solidity": 0.2
             }
            },
            "type": "barpolar"
           }
          ],
          "carpet": [
           {
            "aaxis": {
             "endlinecolor": "#2a3f5f",
             "gridcolor": "white",
             "linecolor": "white",
             "minorgridcolor": "white",
             "startlinecolor": "#2a3f5f"
            },
            "baxis": {
             "endlinecolor": "#2a3f5f",
             "gridcolor": "white",
             "linecolor": "white",
             "minorgridcolor": "white",
             "startlinecolor": "#2a3f5f"
            },
            "type": "carpet"
           }
          ],
          "choropleth": [
           {
            "colorbar": {
             "outlinewidth": 0,
             "ticks": ""
            },
            "type": "choropleth"
           }
          ],
          "contour": [
           {
            "colorbar": {
             "outlinewidth": 0,
             "ticks": ""
            },
            "colorscale": [
             [
              0,
              "#0d0887"
             ],
             [
              0.1111111111111111,
              "#46039f"
             ],
             [
              0.2222222222222222,
              "#7201a8"
             ],
             [
              0.3333333333333333,
              "#9c179e"
             ],
             [
              0.4444444444444444,
              "#bd3786"
             ],
             [
              0.5555555555555556,
              "#d8576b"
             ],
             [
              0.6666666666666666,
              "#ed7953"
             ],
             [
              0.7777777777777778,
              "#fb9f3a"
             ],
             [
              0.8888888888888888,
              "#fdca26"
             ],
             [
              1,
              "#f0f921"
             ]
            ],
            "type": "contour"
           }
          ],
          "contourcarpet": [
           {
            "colorbar": {
             "outlinewidth": 0,
             "ticks": ""
            },
            "type": "contourcarpet"
           }
          ],
          "heatmap": [
           {
            "colorbar": {
             "outlinewidth": 0,
             "ticks": ""
            },
            "colorscale": [
             [
              0,
              "#0d0887"
             ],
             [
              0.1111111111111111,
              "#46039f"
             ],
             [
              0.2222222222222222,
              "#7201a8"
             ],
             [
              0.3333333333333333,
              "#9c179e"
             ],
             [
              0.4444444444444444,
              "#bd3786"
             ],
             [
              0.5555555555555556,
              "#d8576b"
             ],
             [
              0.6666666666666666,
              "#ed7953"
             ],
             [
              0.7777777777777778,
              "#fb9f3a"
             ],
             [
              0.8888888888888888,
              "#fdca26"
             ],
             [
              1,
              "#f0f921"
             ]
            ],
            "type": "heatmap"
           }
          ],
          "heatmapgl": [
           {
            "colorbar": {
             "outlinewidth": 0,
             "ticks": ""
            },
            "colorscale": [
             [
              0,
              "#0d0887"
             ],
             [
              0.1111111111111111,
              "#46039f"
             ],
             [
              0.2222222222222222,
              "#7201a8"
             ],
             [
              0.3333333333333333,
              "#9c179e"
             ],
             [
              0.4444444444444444,
              "#bd3786"
             ],
             [
              0.5555555555555556,
              "#d8576b"
             ],
             [
              0.6666666666666666,
              "#ed7953"
             ],
             [
              0.7777777777777778,
              "#fb9f3a"
             ],
             [
              0.8888888888888888,
              "#fdca26"
             ],
             [
              1,
              "#f0f921"
             ]
            ],
            "type": "heatmapgl"
           }
          ],
          "histogram": [
           {
            "marker": {
             "pattern": {
              "fillmode": "overlay",
              "size": 10,
              "solidity": 0.2
             }
            },
            "type": "histogram"
           }
          ],
          "histogram2d": [
           {
            "colorbar": {
             "outlinewidth": 0,
             "ticks": ""
            },
            "colorscale": [
             [
              0,
              "#0d0887"
             ],
             [
              0.1111111111111111,
              "#46039f"
             ],
             [
              0.2222222222222222,
              "#7201a8"
             ],
             [
              0.3333333333333333,
              "#9c179e"
             ],
             [
              0.4444444444444444,
              "#bd3786"
             ],
             [
              0.5555555555555556,
              "#d8576b"
             ],
             [
              0.6666666666666666,
              "#ed7953"
             ],
             [
              0.7777777777777778,
              "#fb9f3a"
             ],
             [
              0.8888888888888888,
              "#fdca26"
             ],
             [
              1,
              "#f0f921"
             ]
            ],
            "type": "histogram2d"
           }
          ],
          "histogram2dcontour": [
           {
            "colorbar": {
             "outlinewidth": 0,
             "ticks": ""
            },
            "colorscale": [
             [
              0,
              "#0d0887"
             ],
             [
              0.1111111111111111,
              "#46039f"
             ],
             [
              0.2222222222222222,
              "#7201a8"
             ],
             [
              0.3333333333333333,
              "#9c179e"
             ],
             [
              0.4444444444444444,
              "#bd3786"
             ],
             [
              0.5555555555555556,
              "#d8576b"
             ],
             [
              0.6666666666666666,
              "#ed7953"
             ],
             [
              0.7777777777777778,
              "#fb9f3a"
             ],
             [
              0.8888888888888888,
              "#fdca26"
             ],
             [
              1,
              "#f0f921"
             ]
            ],
            "type": "histogram2dcontour"
           }
          ],
          "mesh3d": [
           {
            "colorbar": {
             "outlinewidth": 0,
             "ticks": ""
            },
            "type": "mesh3d"
           }
          ],
          "parcoords": [
           {
            "line": {
             "colorbar": {
              "outlinewidth": 0,
              "ticks": ""
             }
            },
            "type": "parcoords"
           }
          ],
          "pie": [
           {
            "automargin": true,
            "type": "pie"
           }
          ],
          "scatter": [
           {
            "fillpattern": {
             "fillmode": "overlay",
             "size": 10,
             "solidity": 0.2
            },
            "type": "scatter"
           }
          ],
          "scatter3d": [
           {
            "line": {
             "colorbar": {
              "outlinewidth": 0,
              "ticks": ""
             }
            },
            "marker": {
             "colorbar": {
              "outlinewidth": 0,
              "ticks": ""
             }
            },
            "type": "scatter3d"
           }
          ],
          "scattercarpet": [
           {
            "marker": {
             "colorbar": {
              "outlinewidth": 0,
              "ticks": ""
             }
            },
            "type": "scattercarpet"
           }
          ],
          "scattergeo": [
           {
            "marker": {
             "colorbar": {
              "outlinewidth": 0,
              "ticks": ""
             }
            },
            "type": "scattergeo"
           }
          ],
          "scattergl": [
           {
            "marker": {
             "colorbar": {
              "outlinewidth": 0,
              "ticks": ""
             }
            },
            "type": "scattergl"
           }
          ],
          "scattermapbox": [
           {
            "marker": {
             "colorbar": {
              "outlinewidth": 0,
              "ticks": ""
             }
            },
            "type": "scattermapbox"
           }
          ],
          "scatterpolar": [
           {
            "marker": {
             "colorbar": {
              "outlinewidth": 0,
              "ticks": ""
             }
            },
            "type": "scatterpolar"
           }
          ],
          "scatterpolargl": [
           {
            "marker": {
             "colorbar": {
              "outlinewidth": 0,
              "ticks": ""
             }
            },
            "type": "scatterpolargl"
           }
          ],
          "scatterternary": [
           {
            "marker": {
             "colorbar": {
              "outlinewidth": 0,
              "ticks": ""
             }
            },
            "type": "scatterternary"
           }
          ],
          "surface": [
           {
            "colorbar": {
             "outlinewidth": 0,
             "ticks": ""
            },
            "colorscale": [
             [
              0,
              "#0d0887"
             ],
             [
              0.1111111111111111,
              "#46039f"
             ],
             [
              0.2222222222222222,
              "#7201a8"
             ],
             [
              0.3333333333333333,
              "#9c179e"
             ],
             [
              0.4444444444444444,
              "#bd3786"
             ],
             [
              0.5555555555555556,
              "#d8576b"
             ],
             [
              0.6666666666666666,
              "#ed7953"
             ],
             [
              0.7777777777777778,
              "#fb9f3a"
             ],
             [
              0.8888888888888888,
              "#fdca26"
             ],
             [
              1,
              "#f0f921"
             ]
            ],
            "type": "surface"
           }
          ],
          "table": [
           {
            "cells": {
             "fill": {
              "color": "#EBF0F8"
             },
             "line": {
              "color": "white"
             }
            },
            "header": {
             "fill": {
              "color": "#C8D4E3"
             },
             "line": {
              "color": "white"
             }
            },
            "type": "table"
           }
          ]
         },
         "layout": {
          "annotationdefaults": {
           "arrowcolor": "#2a3f5f",
           "arrowhead": 0,
           "arrowwidth": 1
          },
          "autotypenumbers": "strict",
          "coloraxis": {
           "colorbar": {
            "outlinewidth": 0,
            "ticks": ""
           }
          },
          "colorscale": {
           "diverging": [
            [
             0,
             "#8e0152"
            ],
            [
             0.1,
             "#c51b7d"
            ],
            [
             0.2,
             "#de77ae"
            ],
            [
             0.3,
             "#f1b6da"
            ],
            [
             0.4,
             "#fde0ef"
            ],
            [
             0.5,
             "#f7f7f7"
            ],
            [
             0.6,
             "#e6f5d0"
            ],
            [
             0.7,
             "#b8e186"
            ],
            [
             0.8,
             "#7fbc41"
            ],
            [
             0.9,
             "#4d9221"
            ],
            [
             1,
             "#276419"
            ]
           ],
           "sequential": [
            [
             0,
             "#0d0887"
            ],
            [
             0.1111111111111111,
             "#46039f"
            ],
            [
             0.2222222222222222,
             "#7201a8"
            ],
            [
             0.3333333333333333,
             "#9c179e"
            ],
            [
             0.4444444444444444,
             "#bd3786"
            ],
            [
             0.5555555555555556,
             "#d8576b"
            ],
            [
             0.6666666666666666,
             "#ed7953"
            ],
            [
             0.7777777777777778,
             "#fb9f3a"
            ],
            [
             0.8888888888888888,
             "#fdca26"
            ],
            [
             1,
             "#f0f921"
            ]
           ],
           "sequentialminus": [
            [
             0,
             "#0d0887"
            ],
            [
             0.1111111111111111,
             "#46039f"
            ],
            [
             0.2222222222222222,
             "#7201a8"
            ],
            [
             0.3333333333333333,
             "#9c179e"
            ],
            [
             0.4444444444444444,
             "#bd3786"
            ],
            [
             0.5555555555555556,
             "#d8576b"
            ],
            [
             0.6666666666666666,
             "#ed7953"
            ],
            [
             0.7777777777777778,
             "#fb9f3a"
            ],
            [
             0.8888888888888888,
             "#fdca26"
            ],
            [
             1,
             "#f0f921"
            ]
           ]
          },
          "colorway": [
           "#636efa",
           "#EF553B",
           "#00cc96",
           "#ab63fa",
           "#FFA15A",
           "#19d3f3",
           "#FF6692",
           "#B6E880",
           "#FF97FF",
           "#FECB52"
          ],
          "font": {
           "color": "#2a3f5f"
          },
          "geo": {
           "bgcolor": "white",
           "lakecolor": "white",
           "landcolor": "#E5ECF6",
           "showlakes": true,
           "showland": true,
           "subunitcolor": "white"
          },
          "hoverlabel": {
           "align": "left"
          },
          "hovermode": "closest",
          "mapbox": {
           "style": "light"
          },
          "paper_bgcolor": "white",
          "plot_bgcolor": "#E5ECF6",
          "polar": {
           "angularaxis": {
            "gridcolor": "white",
            "linecolor": "white",
            "ticks": ""
           },
           "bgcolor": "#E5ECF6",
           "radialaxis": {
            "gridcolor": "white",
            "linecolor": "white",
            "ticks": ""
           }
          },
          "scene": {
           "xaxis": {
            "backgroundcolor": "#E5ECF6",
            "gridcolor": "white",
            "gridwidth": 2,
            "linecolor": "white",
            "showbackground": true,
            "ticks": "",
            "zerolinecolor": "white"
           },
           "yaxis": {
            "backgroundcolor": "#E5ECF6",
            "gridcolor": "white",
            "gridwidth": 2,
            "linecolor": "white",
            "showbackground": true,
            "ticks": "",
            "zerolinecolor": "white"
           },
           "zaxis": {
            "backgroundcolor": "#E5ECF6",
            "gridcolor": "white",
            "gridwidth": 2,
            "linecolor": "white",
            "showbackground": true,
            "ticks": "",
            "zerolinecolor": "white"
           }
          },
          "shapedefaults": {
           "line": {
            "color": "#2a3f5f"
           }
          },
          "ternary": {
           "aaxis": {
            "gridcolor": "white",
            "linecolor": "white",
            "ticks": ""
           },
           "baxis": {
            "gridcolor": "white",
            "linecolor": "white",
            "ticks": ""
           },
           "bgcolor": "#E5ECF6",
           "caxis": {
            "gridcolor": "white",
            "linecolor": "white",
            "ticks": ""
           }
          },
          "title": {
           "x": 0.05
          },
          "xaxis": {
           "automargin": true,
           "gridcolor": "white",
           "linecolor": "white",
           "ticks": "",
           "title": {
            "standoff": 15
           },
           "zerolinecolor": "white",
           "zerolinewidth": 2
          },
          "yaxis": {
           "automargin": true,
           "gridcolor": "white",
           "linecolor": "white",
           "ticks": "",
           "title": {
            "standoff": 15
           },
           "zerolinecolor": "white",
           "zerolinewidth": 2
          }
         }
        },
        "xaxis": {
         "anchor": "y",
         "domain": [
          0,
          0.94
         ],
         "showgrid": false,
         "title": {
          "text": "Age"
         }
        },
        "yaxis": {
         "anchor": "x",
         "domain": [
          0,
          1
         ],
         "showgrid": false,
         "side": "right",
         "title": {
          "text": "Frequency"
         }
        },
        "yaxis2": {
         "anchor": "x",
         "overlaying": "y",
         "showgrid": false,
         "side": "left"
        }
       }
      },
      "text/html": [
       "<div>                        <script type=\"text/javascript\">window.PlotlyConfig = {MathJaxConfig: 'local'};</script>\n",
       "        <script src=\"https://cdn.plot.ly/plotly-2.11.1.min.js\"></script>                <div id=\"274f58de-94be-4280-80c2-4d596aafa878\" class=\"plotly-graph-div\" style=\"height:100%; width:100%;\"></div>            <script type=\"text/javascript\">                                    window.PLOTLYENV=window.PLOTLYENV || {};                                    if (document.getElementById(\"274f58de-94be-4280-80c2-4d596aafa878\")) {                    Plotly.newPlot(                        \"274f58de-94be-4280-80c2-4d596aafa878\",                        [{\"line\":{\"color\":\"#0052CC\"},\"mode\":\"lines\",\"name\":\"Model 0\",\"x\":[\"0.00\",\"0.00 - 0.07\",\"0.07 - 0.20\",\"0.20 - 0.22\",\"0.22 - 0.25\",\"0.25 - 0.27\",\"0.27 - 0.30\",\"0.30 - 0.32\",\"0.32 - 0.35\",\"0.35 - 0.37\",\"0.37 - 0.40\",\"0.40 - 0.43\",\"0.43 - 0.47\",\"0.47 - 0.52\",\"0.52 - 0.59\",\"0.59 - 0.67\",\"0.67+\"],\"y\":[0.0,-0.2553191489361702,-0.5194700923323966,-0.5194700923323966,-0.5194700923323966,-0.5194700923323966,-0.5194700923323966,-0.49566056852287277,-0.49566056852287277,-0.5169371642675537,-0.5169371642675537,-0.5169371642675537,-0.5169371642675537,-0.5169371642675537,-0.5419371642675537,-0.5844903557569153,-0.5844903557569153],\"type\":\"scatter\",\"xaxis\":\"x\",\"yaxis\":\"y2\"},{\"line\":{\"width\":0},\"marker\":{\"color\":\"#444\"},\"mode\":\"lines\",\"name\":\"Upper Bound\",\"showlegend\":false,\"x\":[\"0.00\",\"0.00 - 0.07\",\"0.07 - 0.20\",\"0.20 - 0.22\",\"0.22 - 0.25\",\"0.25 - 0.27\",\"0.27 - 0.30\",\"0.30 - 0.32\",\"0.32 - 0.35\",\"0.35 - 0.37\",\"0.37 - 0.40\",\"0.40 - 0.43\",\"0.43 - 0.47\",\"0.47 - 0.52\",\"0.52 - 0.59\",\"0.59 - 0.67\",\"0.67+\"],\"y\":[null,-0.12590876641044446,-0.3967855866324483,-0.5194700923323966,-0.5194700923323966,-0.5194700923323966,-0.5194700923323966,-0.4475762598566134,-0.49566056852287277,-0.474109598410222,-0.5169371642675537,-0.5169371642675537,-0.5169371642675537,-0.5169371642675537,-0.49136989147418547,-0.5245849891261296,-0.5844903557569153],\"type\":\"scatter\",\"xaxis\":\"x\",\"yaxis\":\"y2\"},{\"fill\":\"tonexty\",\"fillcolor\":\"rgba(68, 68, 68, 0.3)\",\"line\":{\"width\":0},\"marker\":{\"color\":\"#444\"},\"mode\":\"lines\",\"name\":\"Lower Bound\",\"showlegend\":false,\"x\":[\"0.00\",\"0.00 - 0.07\",\"0.07 - 0.20\",\"0.20 - 0.22\",\"0.22 - 0.25\",\"0.25 - 0.27\",\"0.27 - 0.30\",\"0.30 - 0.32\",\"0.32 - 0.35\",\"0.35 - 0.37\",\"0.37 - 0.40\",\"0.40 - 0.43\",\"0.43 - 0.47\",\"0.47 - 0.52\",\"0.52 - 0.59\",\"0.59 - 0.67\",\"0.67+\"],\"y\":[null,-0.3847295314618959,-0.6421545980323449,-0.5194700923323966,-0.5194700923323966,-0.5194700923323966,-0.5194700923323966,-0.5437448771891321,-0.49566056852287277,-0.5597647301248854,-0.5169371642675537,-0.5169371642675537,-0.5169371642675537,-0.5169371642675537,-0.5925044370609218,-0.644395722387701,-0.5844903557569153],\"type\":\"scatter\",\"xaxis\":\"x\",\"yaxis\":\"y2\"},{\"line\":{\"color\":\"#FF5630\"},\"mode\":\"lines\",\"name\":\"Model 1\",\"x\":[\"0.00\",\"0.00 - 0.07\",\"0.07 - 0.20\",\"0.20 - 0.22\",\"0.22 - 0.25\",\"0.25 - 0.27\",\"0.27 - 0.30\",\"0.30 - 0.32\",\"0.32 - 0.35\",\"0.35 - 0.37\",\"0.37 - 0.40\",\"0.40 - 0.43\",\"0.43 - 0.47\",\"0.47 - 0.52\",\"0.52 - 0.59\",\"0.59 - 0.67\",\"0.67+\"],\"y\":[0.0,-0.2765957446808511,-0.4275391409072662,-0.4275391409072662,-0.4275391409072662,-0.4275391409072662,-0.4275391409072662,-0.3799200932882186,-0.3799200932882186,-0.3799200932882186,-0.3799200932882186,-0.3799200932882186,-0.3799200932882186,-0.3799200932882186,-0.3799200932882186,-0.3799200932882186,-0.3799200932882186],\"type\":\"scatter\",\"xaxis\":\"x\",\"yaxis\":\"y2\"},{\"line\":{\"width\":0},\"marker\":{\"color\":\"#444\"},\"mode\":\"lines\",\"name\":\"Upper Bound\",\"showlegend\":false,\"x\":[\"0.00\",\"0.00 - 0.07\",\"0.07 - 0.20\",\"0.20 - 0.22\",\"0.22 - 0.25\",\"0.25 - 0.27\",\"0.27 - 0.30\",\"0.30 - 0.32\",\"0.32 - 0.35\",\"0.35 - 0.37\",\"0.37 - 0.40\",\"0.40 - 0.43\",\"0.43 - 0.47\",\"0.47 - 0.52\",\"0.52 - 0.59\",\"0.59 - 0.67\",\"0.67+\"],\"y\":[null,-0.14383930083571397,-0.3279195746481563,-0.4275391409072662,-0.4275391409072662,-0.4275391409072662,-0.4275391409072662,-0.3127530174409161,-0.3799200932882186,-0.3799200932882186,-0.3799200932882186,-0.3799200932882186,-0.3799200932882186,-0.3799200932882186,-0.3799200932882186,-0.3799200932882186,-0.3799200932882186],\"type\":\"scatter\",\"xaxis\":\"x\",\"yaxis\":\"y2\"},{\"fill\":\"tonexty\",\"fillcolor\":\"rgba(68, 68, 68, 0.3)\",\"line\":{\"width\":0},\"marker\":{\"color\":\"#444\"},\"mode\":\"lines\",\"name\":\"Lower Bound\",\"showlegend\":false,\"x\":[\"0.00\",\"0.00 - 0.07\",\"0.07 - 0.20\",\"0.20 - 0.22\",\"0.22 - 0.25\",\"0.25 - 0.27\",\"0.27 - 0.30\",\"0.30 - 0.32\",\"0.32 - 0.35\",\"0.35 - 0.37\",\"0.37 - 0.40\",\"0.40 - 0.43\",\"0.43 - 0.47\",\"0.47 - 0.52\",\"0.52 - 0.59\",\"0.59 - 0.67\",\"0.67+\"],\"y\":[null,-0.4093521885259882,-0.5271587071663761,-0.4275391409072662,-0.4275391409072662,-0.4275391409072662,-0.4275391409072662,-0.44708716913552105,-0.3799200932882186,-0.3799200932882186,-0.3799200932882186,-0.3799200932882186,-0.3799200932882186,-0.3799200932882186,-0.3799200932882186,-0.3799200932882186,-0.3799200932882186],\"type\":\"scatter\",\"xaxis\":\"x\",\"yaxis\":\"y2\"},{\"line\":{\"color\":\"#FFAB00\"},\"mode\":\"lines\",\"name\":\"Model 2\",\"x\":[\"0.00\",\"0.00 - 0.07\",\"0.07 - 0.20\",\"0.20 - 0.22\",\"0.22 - 0.25\",\"0.25 - 0.27\",\"0.27 - 0.30\",\"0.30 - 0.32\",\"0.32 - 0.35\",\"0.35 - 0.37\",\"0.37 - 0.40\",\"0.40 - 0.43\",\"0.43 - 0.47\",\"0.47 - 0.52\",\"0.52 - 0.59\",\"0.59 - 0.67\",\"0.67+\"],\"y\":[0.0,-0.2765957446808511,-0.5218787635487756,-0.5218787635487756,-0.5218787635487756,-0.5218787635487756,-0.5218787635487756,-0.5218787635487756,-0.5491514908215028,-0.5491514908215028,-0.5491514908215028,-0.5491514908215028,-0.5491514908215028,-0.5491514908215028,-0.5491514908215028,-0.6129812780555454,-0.6129812780555454],\"type\":\"scatter\",\"xaxis\":\"x\",\"yaxis\":\"y2\"},{\"line\":{\"width\":0},\"marker\":{\"color\":\"#444\"},\"mode\":\"lines\",\"name\":\"Upper Bound\",\"showlegend\":false,\"x\":[\"0.00\",\"0.00 - 0.07\",\"0.07 - 0.20\",\"0.20 - 0.22\",\"0.22 - 0.25\",\"0.25 - 0.27\",\"0.27 - 0.30\",\"0.30 - 0.32\",\"0.32 - 0.35\",\"0.35 - 0.37\",\"0.37 - 0.40\",\"0.40 - 0.43\",\"0.43 - 0.47\",\"0.47 - 0.52\",\"0.52 - 0.59\",\"0.59 - 0.67\",\"0.67+\"],\"y\":[null,-0.11810104237764485,-0.40215094548654123,-0.5218787635487756,-0.5218787635487756,-0.5218787635487756,-0.5218787635487756,-0.5218787635487756,-0.5274598438362246,-0.5491514908215028,-0.5491514908215028,-0.5491514908215028,-0.5491514908215028,-0.5491514908215028,-0.5491514908215028,-0.5404322762587299,-0.6129812780555454],\"type\":\"scatter\",\"xaxis\":\"x\",\"yaxis\":\"y2\"},{\"fill\":\"tonexty\",\"fillcolor\":\"rgba(68, 68, 68, 0.3)\",\"line\":{\"width\":0},\"marker\":{\"color\":\"#444\"},\"mode\":\"lines\",\"name\":\"Lower Bound\",\"showlegend\":false,\"x\":[\"0.00\",\"0.00 - 0.07\",\"0.07 - 0.20\",\"0.20 - 0.22\",\"0.22 - 0.25\",\"0.25 - 0.27\",\"0.27 - 0.30\",\"0.30 - 0.32\",\"0.32 - 0.35\",\"0.35 - 0.37\",\"0.37 - 0.40\",\"0.40 - 0.43\",\"0.43 - 0.47\",\"0.47 - 0.52\",\"0.52 - 0.59\",\"0.59 - 0.67\",\"0.67+\"],\"y\":[null,-0.4350904469840573,-0.6416065816110099,-0.5218787635487756,-0.5218787635487756,-0.5218787635487756,-0.5218787635487756,-0.5218787635487756,-0.5708431378067811,-0.5491514908215028,-0.5491514908215028,-0.5491514908215028,-0.5491514908215028,-0.5491514908215028,-0.5491514908215028,-0.6855302798523608,-0.6129812780555454],\"type\":\"scatter\",\"xaxis\":\"x\",\"yaxis\":\"y2\"},{\"line\":{\"color\":\"#36B37E\"},\"mode\":\"lines\",\"name\":\"Model 3\",\"x\":[\"0.00\",\"0.00 - 0.07\",\"0.07 - 0.20\",\"0.20 - 0.22\",\"0.22 - 0.25\",\"0.25 - 0.27\",\"0.27 - 0.30\",\"0.30 - 0.32\",\"0.32 - 0.35\",\"0.35 - 0.37\",\"0.37 - 0.40\",\"0.40 - 0.43\",\"0.43 - 0.47\",\"0.47 - 0.52\",\"0.52 - 0.59\",\"0.59 - 0.67\",\"0.67+\"],\"y\":[0.0,-0.425531914893617,-0.4632677639502208,-0.4632677639502208,-0.4632677639502208,-0.4632677639502208,-0.4632677639502208,-0.4632677639502208,-0.4632677639502208,-0.4632677639502208,-0.4632677639502208,-0.4632677639502208,-0.5382677639502208,-0.5382677639502208,-0.5382677639502208,-0.5808209554395825,-0.5808209554395825],\"type\":\"scatter\",\"xaxis\":\"x\",\"yaxis\":\"y2\"},{\"line\":{\"width\":0},\"marker\":{\"color\":\"#444\"},\"mode\":\"lines\",\"name\":\"Upper Bound\",\"showlegend\":false,\"x\":[\"0.00\",\"0.00 - 0.07\",\"0.07 - 0.20\",\"0.20 - 0.22\",\"0.22 - 0.25\",\"0.25 - 0.27\",\"0.27 - 0.30\",\"0.30 - 0.32\",\"0.32 - 0.35\",\"0.35 - 0.37\",\"0.37 - 0.40\",\"0.40 - 0.43\",\"0.43 - 0.47\",\"0.47 - 0.52\",\"0.52 - 0.59\",\"0.59 - 0.67\",\"0.67+\"],\"y\":[null,-0.2787943337938418,-0.41024120053022284,-0.4632677639502208,-0.4632677639502208,-0.4632677639502208,-0.4632677639502208,-0.4632677639502208,-0.4632677639502208,-0.4632677639502208,-0.4632677639502208,-0.4632677639502208,-0.452958004441313,-0.5382677639502208,-0.5382677639502208,-0.5209155888087967,-0.5808209554395825],\"type\":\"scatter\",\"xaxis\":\"x\",\"yaxis\":\"y2\"},{\"fill\":\"tonexty\",\"fillcolor\":\"rgba(68, 68, 68, 0.3)\",\"line\":{\"width\":0},\"marker\":{\"color\":\"#444\"},\"mode\":\"lines\",\"name\":\"Lower Bound\",\"showlegend\":false,\"x\":[\"0.00\",\"0.00 - 0.07\",\"0.07 - 0.20\",\"0.20 - 0.22\",\"0.22 - 0.25\",\"0.25 - 0.27\",\"0.27 - 0.30\",\"0.30 - 0.32\",\"0.32 - 0.35\",\"0.35 - 0.37\",\"0.37 - 0.40\",\"0.40 - 0.43\",\"0.43 - 0.47\",\"0.47 - 0.52\",\"0.52 - 0.59\",\"0.59 - 0.67\",\"0.67+\"],\"y\":[null,-0.5722694959933923,-0.5162943273702187,-0.4632677639502208,-0.4632677639502208,-0.4632677639502208,-0.4632677639502208,-0.4632677639502208,-0.4632677639502208,-0.4632677639502208,-0.4632677639502208,-0.4632677639502208,-0.6235775234591285,-0.5382677639502208,-0.5382677639502208,-0.6407263220703682,-0.5808209554395825],\"type\":\"scatter\",\"xaxis\":\"x\",\"yaxis\":\"y2\"},{\"marker\":{\"color\":\"#C1C7D0\"},\"name\":\"Frequency\",\"x\":[\"0.00\",\"0.00 - 0.07\",\"0.07 - 0.20\",\"0.20 - 0.22\",\"0.22 - 0.25\",\"0.25 - 0.27\",\"0.27 - 0.30\",\"0.30 - 0.32\",\"0.32 - 0.35\",\"0.35 - 0.37\",\"0.37 - 0.40\",\"0.40 - 0.43\",\"0.43 - 0.47\",\"0.47 - 0.52\",\"0.52 - 0.59\",\"0.59 - 0.67\",\"0.67+\"],\"y\":[0.0,47.0,53.0,39.0,40.0,52.0,46.0,42.0,220.0,47.0,39.0,49.0,40.0,48.0,40.0,47.0,42.0],\"type\":\"bar\",\"xaxis\":\"x\",\"yaxis\":\"y\"}],                        {\"template\":{\"data\":{\"histogram2dcontour\":[{\"type\":\"histogram2dcontour\",\"colorbar\":{\"outlinewidth\":0,\"ticks\":\"\"},\"colorscale\":[[0.0,\"#0d0887\"],[0.1111111111111111,\"#46039f\"],[0.2222222222222222,\"#7201a8\"],[0.3333333333333333,\"#9c179e\"],[0.4444444444444444,\"#bd3786\"],[0.5555555555555556,\"#d8576b\"],[0.6666666666666666,\"#ed7953\"],[0.7777777777777778,\"#fb9f3a\"],[0.8888888888888888,\"#fdca26\"],[1.0,\"#f0f921\"]]}],\"choropleth\":[{\"type\":\"choropleth\",\"colorbar\":{\"outlinewidth\":0,\"ticks\":\"\"}}],\"histogram2d\":[{\"type\":\"histogram2d\",\"colorbar\":{\"outlinewidth\":0,\"ticks\":\"\"},\"colorscale\":[[0.0,\"#0d0887\"],[0.1111111111111111,\"#46039f\"],[0.2222222222222222,\"#7201a8\"],[0.3333333333333333,\"#9c179e\"],[0.4444444444444444,\"#bd3786\"],[0.5555555555555556,\"#d8576b\"],[0.6666666666666666,\"#ed7953\"],[0.7777777777777778,\"#fb9f3a\"],[0.8888888888888888,\"#fdca26\"],[1.0,\"#f0f921\"]]}],\"heatmap\":[{\"type\":\"heatmap\",\"colorbar\":{\"outlinewidth\":0,\"ticks\":\"\"},\"colorscale\":[[0.0,\"#0d0887\"],[0.1111111111111111,\"#46039f\"],[0.2222222222222222,\"#7201a8\"],[0.3333333333333333,\"#9c179e\"],[0.4444444444444444,\"#bd3786\"],[0.5555555555555556,\"#d8576b\"],[0.6666666666666666,\"#ed7953\"],[0.7777777777777778,\"#fb9f3a\"],[0.8888888888888888,\"#fdca26\"],[1.0,\"#f0f921\"]]}],\"heatmapgl\":[{\"type\":\"heatmapgl\",\"colorbar\":{\"outlinewidth\":0,\"ticks\":\"\"},\"colorscale\":[[0.0,\"#0d0887\"],[0.1111111111111111,\"#46039f\"],[0.2222222222222222,\"#7201a8\"],[0.3333333333333333,\"#9c179e\"],[0.4444444444444444,\"#bd3786\"],[0.5555555555555556,\"#d8576b\"],[0.6666666666666666,\"#ed7953\"],[0.7777777777777778,\"#fb9f3a\"],[0.8888888888888888,\"#fdca26\"],[1.0,\"#f0f921\"]]}],\"contourcarpet\":[{\"type\":\"contourcarpet\",\"colorbar\":{\"outlinewidth\":0,\"ticks\":\"\"}}],\"contour\":[{\"type\":\"contour\",\"colorbar\":{\"outlinewidth\":0,\"ticks\":\"\"},\"colorscale\":[[0.0,\"#0d0887\"],[0.1111111111111111,\"#46039f\"],[0.2222222222222222,\"#7201a8\"],[0.3333333333333333,\"#9c179e\"],[0.4444444444444444,\"#bd3786\"],[0.5555555555555556,\"#d8576b\"],[0.6666666666666666,\"#ed7953\"],[0.7777777777777778,\"#fb9f3a\"],[0.8888888888888888,\"#fdca26\"],[1.0,\"#f0f921\"]]}],\"surface\":[{\"type\":\"surface\",\"colorbar\":{\"outlinewidth\":0,\"ticks\":\"\"},\"colorscale\":[[0.0,\"#0d0887\"],[0.1111111111111111,\"#46039f\"],[0.2222222222222222,\"#7201a8\"],[0.3333333333333333,\"#9c179e\"],[0.4444444444444444,\"#bd3786\"],[0.5555555555555556,\"#d8576b\"],[0.6666666666666666,\"#ed7953\"],[0.7777777777777778,\"#fb9f3a\"],[0.8888888888888888,\"#fdca26\"],[1.0,\"#f0f921\"]]}],\"mesh3d\":[{\"type\":\"mesh3d\",\"colorbar\":{\"outlinewidth\":0,\"ticks\":\"\"}}],\"scatter\":[{\"fillpattern\":{\"fillmode\":\"overlay\",\"size\":10,\"solidity\":0.2},\"type\":\"scatter\"}],\"parcoords\":[{\"type\":\"parcoords\",\"line\":{\"colorbar\":{\"outlinewidth\":0,\"ticks\":\"\"}}}],\"scatterpolargl\":[{\"type\":\"scatterpolargl\",\"marker\":{\"colorbar\":{\"outlinewidth\":0,\"ticks\":\"\"}}}],\"bar\":[{\"error_x\":{\"color\":\"#2a3f5f\"},\"error_y\":{\"color\":\"#2a3f5f\"},\"marker\":{\"line\":{\"color\":\"#E5ECF6\",\"width\":0.5},\"pattern\":{\"fillmode\":\"overlay\",\"size\":10,\"solidity\":0.2}},\"type\":\"bar\"}],\"scattergeo\":[{\"type\":\"scattergeo\",\"marker\":{\"colorbar\":{\"outlinewidth\":0,\"ticks\":\"\"}}}],\"scatterpolar\":[{\"type\":\"scatterpolar\",\"marker\":{\"colorbar\":{\"outlinewidth\":0,\"ticks\":\"\"}}}],\"histogram\":[{\"marker\":{\"pattern\":{\"fillmode\":\"overlay\",\"size\":10,\"solidity\":0.2}},\"type\":\"histogram\"}],\"scattergl\":[{\"type\":\"scattergl\",\"marker\":{\"colorbar\":{\"outlinewidth\":0,\"ticks\":\"\"}}}],\"scatter3d\":[{\"type\":\"scatter3d\",\"line\":{\"colorbar\":{\"outlinewidth\":0,\"ticks\":\"\"}},\"marker\":{\"colorbar\":{\"outlinewidth\":0,\"ticks\":\"\"}}}],\"scattermapbox\":[{\"type\":\"scattermapbox\",\"marker\":{\"colorbar\":{\"outlinewidth\":0,\"ticks\":\"\"}}}],\"scatterternary\":[{\"type\":\"scatterternary\",\"marker\":{\"colorbar\":{\"outlinewidth\":0,\"ticks\":\"\"}}}],\"scattercarpet\":[{\"type\":\"scattercarpet\",\"marker\":{\"colorbar\":{\"outlinewidth\":0,\"ticks\":\"\"}}}],\"carpet\":[{\"aaxis\":{\"endlinecolor\":\"#2a3f5f\",\"gridcolor\":\"white\",\"linecolor\":\"white\",\"minorgridcolor\":\"white\",\"startlinecolor\":\"#2a3f5f\"},\"baxis\":{\"endlinecolor\":\"#2a3f5f\",\"gridcolor\":\"white\",\"linecolor\":\"white\",\"minorgridcolor\":\"white\",\"startlinecolor\":\"#2a3f5f\"},\"type\":\"carpet\"}],\"table\":[{\"cells\":{\"fill\":{\"color\":\"#EBF0F8\"},\"line\":{\"color\":\"white\"}},\"header\":{\"fill\":{\"color\":\"#C8D4E3\"},\"line\":{\"color\":\"white\"}},\"type\":\"table\"}],\"barpolar\":[{\"marker\":{\"line\":{\"color\":\"#E5ECF6\",\"width\":0.5},\"pattern\":{\"fillmode\":\"overlay\",\"size\":10,\"solidity\":0.2}},\"type\":\"barpolar\"}],\"pie\":[{\"automargin\":true,\"type\":\"pie\"}]},\"layout\":{\"autotypenumbers\":\"strict\",\"colorway\":[\"#636efa\",\"#EF553B\",\"#00cc96\",\"#ab63fa\",\"#FFA15A\",\"#19d3f3\",\"#FF6692\",\"#B6E880\",\"#FF97FF\",\"#FECB52\"],\"font\":{\"color\":\"#2a3f5f\"},\"hovermode\":\"closest\",\"hoverlabel\":{\"align\":\"left\"},\"paper_bgcolor\":\"white\",\"plot_bgcolor\":\"#E5ECF6\",\"polar\":{\"bgcolor\":\"#E5ECF6\",\"angularaxis\":{\"gridcolor\":\"white\",\"linecolor\":\"white\",\"ticks\":\"\"},\"radialaxis\":{\"gridcolor\":\"white\",\"linecolor\":\"white\",\"ticks\":\"\"}},\"ternary\":{\"bgcolor\":\"#E5ECF6\",\"aaxis\":{\"gridcolor\":\"white\",\"linecolor\":\"white\",\"ticks\":\"\"},\"baxis\":{\"gridcolor\":\"white\",\"linecolor\":\"white\",\"ticks\":\"\"},\"caxis\":{\"gridcolor\":\"white\",\"linecolor\":\"white\",\"ticks\":\"\"}},\"coloraxis\":{\"colorbar\":{\"outlinewidth\":0,\"ticks\":\"\"}},\"colorscale\":{\"sequential\":[[0.0,\"#0d0887\"],[0.1111111111111111,\"#46039f\"],[0.2222222222222222,\"#7201a8\"],[0.3333333333333333,\"#9c179e\"],[0.4444444444444444,\"#bd3786\"],[0.5555555555555556,\"#d8576b\"],[0.6666666666666666,\"#ed7953\"],[0.7777777777777778,\"#fb9f3a\"],[0.8888888888888888,\"#fdca26\"],[1.0,\"#f0f921\"]],\"sequentialminus\":[[0.0,\"#0d0887\"],[0.1111111111111111,\"#46039f\"],[0.2222222222222222,\"#7201a8\"],[0.3333333333333333,\"#9c179e\"],[0.4444444444444444,\"#bd3786\"],[0.5555555555555556,\"#d8576b\"],[0.6666666666666666,\"#ed7953\"],[0.7777777777777778,\"#fb9f3a\"],[0.8888888888888888,\"#fdca26\"],[1.0,\"#f0f921\"]],\"diverging\":[[0,\"#8e0152\"],[0.1,\"#c51b7d\"],[0.2,\"#de77ae\"],[0.3,\"#f1b6da\"],[0.4,\"#fde0ef\"],[0.5,\"#f7f7f7\"],[0.6,\"#e6f5d0\"],[0.7,\"#b8e186\"],[0.8,\"#7fbc41\"],[0.9,\"#4d9221\"],[1,\"#276419\"]]},\"xaxis\":{\"gridcolor\":\"white\",\"linecolor\":\"white\",\"ticks\":\"\",\"title\":{\"standoff\":15},\"zerolinecolor\":\"white\",\"automargin\":true,\"zerolinewidth\":2},\"yaxis\":{\"gridcolor\":\"white\",\"linecolor\":\"white\",\"ticks\":\"\",\"title\":{\"standoff\":15},\"zerolinecolor\":\"white\",\"automargin\":true,\"zerolinewidth\":2},\"scene\":{\"xaxis\":{\"backgroundcolor\":\"#E5ECF6\",\"gridcolor\":\"white\",\"linecolor\":\"white\",\"showbackground\":true,\"ticks\":\"\",\"zerolinecolor\":\"white\",\"gridwidth\":2},\"yaxis\":{\"backgroundcolor\":\"#E5ECF6\",\"gridcolor\":\"white\",\"linecolor\":\"white\",\"showbackground\":true,\"ticks\":\"\",\"zerolinecolor\":\"white\",\"gridwidth\":2},\"zaxis\":{\"backgroundcolor\":\"#E5ECF6\",\"gridcolor\":\"white\",\"linecolor\":\"white\",\"showbackground\":true,\"ticks\":\"\",\"zerolinecolor\":\"white\",\"gridwidth\":2}},\"shapedefaults\":{\"line\":{\"color\":\"#2a3f5f\"}},\"annotationdefaults\":{\"arrowcolor\":\"#2a3f5f\",\"arrowhead\":0,\"arrowwidth\":1},\"geo\":{\"bgcolor\":\"white\",\"landcolor\":\"#E5ECF6\",\"subunitcolor\":\"white\",\"showland\":true,\"showlakes\":true,\"lakecolor\":\"white\"},\"title\":{\"x\":0.05},\"mapbox\":{\"style\":\"light\"}}},\"xaxis\":{\"anchor\":\"y\",\"domain\":[0.0,0.94],\"showgrid\":false,\"title\":{\"text\":\"Age\"}},\"yaxis\":{\"anchor\":\"x\",\"domain\":[0.0,1.0],\"side\":\"right\",\"showgrid\":false,\"title\":{\"text\":\"Frequency\"}},\"yaxis2\":{\"anchor\":\"x\",\"overlaying\":\"y\",\"side\":\"left\",\"showgrid\":false},\"plot_bgcolor\":\"white\"},                        {\"responsive\": true}                    )                };                            </script>        </div>"
      ],
      "text/plain": [
       "Figure({\n",
       "    'data': [{'line': {'color': '#0052CC'},\n",
       "              'mode': 'lines',\n",
       "              'name': 'Model 0',\n",
       "              'type': 'scatter',\n",
       "              'x': array(['0.00', '0.00 - 0.07', '0.07 - 0.20', '0.20 - 0.22', '0.22 - 0.25',\n",
       "                          '0.25 - 0.27', '0.27 - 0.30', '0.30 - 0.32', '0.32 - 0.35',\n",
       "                          '0.35 - 0.37', '0.37 - 0.40', '0.40 - 0.43', '0.43 - 0.47',\n",
       "                          '0.47 - 0.52', '0.52 - 0.59', '0.59 - 0.67', '0.67+'], dtype=object),\n",
       "              'xaxis': 'x',\n",
       "              'y': array([ 0.        , -0.25531915, -0.51947009, -0.51947009, -0.51947009,\n",
       "                          -0.51947009, -0.51947009, -0.49566057, -0.49566057, -0.51693716,\n",
       "                          -0.51693716, -0.51693716, -0.51693716, -0.51693716, -0.54193716,\n",
       "                          -0.58449036, -0.58449036]),\n",
       "              'yaxis': 'y2'},\n",
       "             {'line': {'width': 0},\n",
       "              'marker': {'color': '#444'},\n",
       "              'mode': 'lines',\n",
       "              'name': 'Upper Bound',\n",
       "              'showlegend': False,\n",
       "              'type': 'scatter',\n",
       "              'x': array(['0.00', '0.00 - 0.07', '0.07 - 0.20', '0.20 - 0.22', '0.22 - 0.25',\n",
       "                          '0.25 - 0.27', '0.27 - 0.30', '0.30 - 0.32', '0.32 - 0.35',\n",
       "                          '0.35 - 0.37', '0.37 - 0.40', '0.40 - 0.43', '0.43 - 0.47',\n",
       "                          '0.47 - 0.52', '0.52 - 0.59', '0.59 - 0.67', '0.67+'], dtype=object),\n",
       "              'xaxis': 'x',\n",
       "              'y': array([        nan, -0.12590877, -0.39678559, -0.51947009, -0.51947009,\n",
       "                          -0.51947009, -0.51947009, -0.44757626, -0.49566057, -0.4741096 ,\n",
       "                          -0.51693716, -0.51693716, -0.51693716, -0.51693716, -0.49136989,\n",
       "                          -0.52458499, -0.58449036]),\n",
       "              'yaxis': 'y2'},\n",
       "             {'fill': 'tonexty',\n",
       "              'fillcolor': 'rgba(68, 68, 68, 0.3)',\n",
       "              'line': {'width': 0},\n",
       "              'marker': {'color': '#444'},\n",
       "              'mode': 'lines',\n",
       "              'name': 'Lower Bound',\n",
       "              'showlegend': False,\n",
       "              'type': 'scatter',\n",
       "              'x': array(['0.00', '0.00 - 0.07', '0.07 - 0.20', '0.20 - 0.22', '0.22 - 0.25',\n",
       "                          '0.25 - 0.27', '0.27 - 0.30', '0.30 - 0.32', '0.32 - 0.35',\n",
       "                          '0.35 - 0.37', '0.37 - 0.40', '0.40 - 0.43', '0.43 - 0.47',\n",
       "                          '0.47 - 0.52', '0.52 - 0.59', '0.59 - 0.67', '0.67+'], dtype=object),\n",
       "              'xaxis': 'x',\n",
       "              'y': array([        nan, -0.38472953, -0.6421546 , -0.51947009, -0.51947009,\n",
       "                          -0.51947009, -0.51947009, -0.54374488, -0.49566057, -0.55976473,\n",
       "                          -0.51693716, -0.51693716, -0.51693716, -0.51693716, -0.59250444,\n",
       "                          -0.64439572, -0.58449036]),\n",
       "              'yaxis': 'y2'},\n",
       "             {'line': {'color': '#FF5630'},\n",
       "              'mode': 'lines',\n",
       "              'name': 'Model 1',\n",
       "              'type': 'scatter',\n",
       "              'x': array(['0.00', '0.00 - 0.07', '0.07 - 0.20', '0.20 - 0.22', '0.22 - 0.25',\n",
       "                          '0.25 - 0.27', '0.27 - 0.30', '0.30 - 0.32', '0.32 - 0.35',\n",
       "                          '0.35 - 0.37', '0.37 - 0.40', '0.40 - 0.43', '0.43 - 0.47',\n",
       "                          '0.47 - 0.52', '0.52 - 0.59', '0.59 - 0.67', '0.67+'], dtype=object),\n",
       "              'xaxis': 'x',\n",
       "              'y': array([ 0.        , -0.27659574, -0.42753914, -0.42753914, -0.42753914,\n",
       "                          -0.42753914, -0.42753914, -0.37992009, -0.37992009, -0.37992009,\n",
       "                          -0.37992009, -0.37992009, -0.37992009, -0.37992009, -0.37992009,\n",
       "                          -0.37992009, -0.37992009]),\n",
       "              'yaxis': 'y2'},\n",
       "             {'line': {'width': 0},\n",
       "              'marker': {'color': '#444'},\n",
       "              'mode': 'lines',\n",
       "              'name': 'Upper Bound',\n",
       "              'showlegend': False,\n",
       "              'type': 'scatter',\n",
       "              'x': array(['0.00', '0.00 - 0.07', '0.07 - 0.20', '0.20 - 0.22', '0.22 - 0.25',\n",
       "                          '0.25 - 0.27', '0.27 - 0.30', '0.30 - 0.32', '0.32 - 0.35',\n",
       "                          '0.35 - 0.37', '0.37 - 0.40', '0.40 - 0.43', '0.43 - 0.47',\n",
       "                          '0.47 - 0.52', '0.52 - 0.59', '0.59 - 0.67', '0.67+'], dtype=object),\n",
       "              'xaxis': 'x',\n",
       "              'y': array([        nan, -0.1438393 , -0.32791957, -0.42753914, -0.42753914,\n",
       "                          -0.42753914, -0.42753914, -0.31275302, -0.37992009, -0.37992009,\n",
       "                          -0.37992009, -0.37992009, -0.37992009, -0.37992009, -0.37992009,\n",
       "                          -0.37992009, -0.37992009]),\n",
       "              'yaxis': 'y2'},\n",
       "             {'fill': 'tonexty',\n",
       "              'fillcolor': 'rgba(68, 68, 68, 0.3)',\n",
       "              'line': {'width': 0},\n",
       "              'marker': {'color': '#444'},\n",
       "              'mode': 'lines',\n",
       "              'name': 'Lower Bound',\n",
       "              'showlegend': False,\n",
       "              'type': 'scatter',\n",
       "              'x': array(['0.00', '0.00 - 0.07', '0.07 - 0.20', '0.20 - 0.22', '0.22 - 0.25',\n",
       "                          '0.25 - 0.27', '0.27 - 0.30', '0.30 - 0.32', '0.32 - 0.35',\n",
       "                          '0.35 - 0.37', '0.37 - 0.40', '0.40 - 0.43', '0.43 - 0.47',\n",
       "                          '0.47 - 0.52', '0.52 - 0.59', '0.59 - 0.67', '0.67+'], dtype=object),\n",
       "              'xaxis': 'x',\n",
       "              'y': array([        nan, -0.40935219, -0.52715871, -0.42753914, -0.42753914,\n",
       "                          -0.42753914, -0.42753914, -0.44708717, -0.37992009, -0.37992009,\n",
       "                          -0.37992009, -0.37992009, -0.37992009, -0.37992009, -0.37992009,\n",
       "                          -0.37992009, -0.37992009]),\n",
       "              'yaxis': 'y2'},\n",
       "             {'line': {'color': '#FFAB00'},\n",
       "              'mode': 'lines',\n",
       "              'name': 'Model 2',\n",
       "              'type': 'scatter',\n",
       "              'x': array(['0.00', '0.00 - 0.07', '0.07 - 0.20', '0.20 - 0.22', '0.22 - 0.25',\n",
       "                          '0.25 - 0.27', '0.27 - 0.30', '0.30 - 0.32', '0.32 - 0.35',\n",
       "                          '0.35 - 0.37', '0.37 - 0.40', '0.40 - 0.43', '0.43 - 0.47',\n",
       "                          '0.47 - 0.52', '0.52 - 0.59', '0.59 - 0.67', '0.67+'], dtype=object),\n",
       "              'xaxis': 'x',\n",
       "              'y': array([ 0.        , -0.27659574, -0.52187876, -0.52187876, -0.52187876,\n",
       "                          -0.52187876, -0.52187876, -0.52187876, -0.54915149, -0.54915149,\n",
       "                          -0.54915149, -0.54915149, -0.54915149, -0.54915149, -0.54915149,\n",
       "                          -0.61298128, -0.61298128]),\n",
       "              'yaxis': 'y2'},\n",
       "             {'line': {'width': 0},\n",
       "              'marker': {'color': '#444'},\n",
       "              'mode': 'lines',\n",
       "              'name': 'Upper Bound',\n",
       "              'showlegend': False,\n",
       "              'type': 'scatter',\n",
       "              'x': array(['0.00', '0.00 - 0.07', '0.07 - 0.20', '0.20 - 0.22', '0.22 - 0.25',\n",
       "                          '0.25 - 0.27', '0.27 - 0.30', '0.30 - 0.32', '0.32 - 0.35',\n",
       "                          '0.35 - 0.37', '0.37 - 0.40', '0.40 - 0.43', '0.43 - 0.47',\n",
       "                          '0.47 - 0.52', '0.52 - 0.59', '0.59 - 0.67', '0.67+'], dtype=object),\n",
       "              'xaxis': 'x',\n",
       "              'y': array([        nan, -0.11810104, -0.40215095, -0.52187876, -0.52187876,\n",
       "                          -0.52187876, -0.52187876, -0.52187876, -0.52745984, -0.54915149,\n",
       "                          -0.54915149, -0.54915149, -0.54915149, -0.54915149, -0.54915149,\n",
       "                          -0.54043228, -0.61298128]),\n",
       "              'yaxis': 'y2'},\n",
       "             {'fill': 'tonexty',\n",
       "              'fillcolor': 'rgba(68, 68, 68, 0.3)',\n",
       "              'line': {'width': 0},\n",
       "              'marker': {'color': '#444'},\n",
       "              'mode': 'lines',\n",
       "              'name': 'Lower Bound',\n",
       "              'showlegend': False,\n",
       "              'type': 'scatter',\n",
       "              'x': array(['0.00', '0.00 - 0.07', '0.07 - 0.20', '0.20 - 0.22', '0.22 - 0.25',\n",
       "                          '0.25 - 0.27', '0.27 - 0.30', '0.30 - 0.32', '0.32 - 0.35',\n",
       "                          '0.35 - 0.37', '0.37 - 0.40', '0.40 - 0.43', '0.43 - 0.47',\n",
       "                          '0.47 - 0.52', '0.52 - 0.59', '0.59 - 0.67', '0.67+'], dtype=object),\n",
       "              'xaxis': 'x',\n",
       "              'y': array([        nan, -0.43509045, -0.64160658, -0.52187876, -0.52187876,\n",
       "                          -0.52187876, -0.52187876, -0.52187876, -0.57084314, -0.54915149,\n",
       "                          -0.54915149, -0.54915149, -0.54915149, -0.54915149, -0.54915149,\n",
       "                          -0.68553028, -0.61298128]),\n",
       "              'yaxis': 'y2'},\n",
       "             {'line': {'color': '#36B37E'},\n",
       "              'mode': 'lines',\n",
       "              'name': 'Model 3',\n",
       "              'type': 'scatter',\n",
       "              'x': array(['0.00', '0.00 - 0.07', '0.07 - 0.20', '0.20 - 0.22', '0.22 - 0.25',\n",
       "                          '0.25 - 0.27', '0.27 - 0.30', '0.30 - 0.32', '0.32 - 0.35',\n",
       "                          '0.35 - 0.37', '0.37 - 0.40', '0.40 - 0.43', '0.43 - 0.47',\n",
       "                          '0.47 - 0.52', '0.52 - 0.59', '0.59 - 0.67', '0.67+'], dtype=object),\n",
       "              'xaxis': 'x',\n",
       "              'y': array([ 0.        , -0.42553191, -0.46326776, -0.46326776, -0.46326776,\n",
       "                          -0.46326776, -0.46326776, -0.46326776, -0.46326776, -0.46326776,\n",
       "                          -0.46326776, -0.46326776, -0.53826776, -0.53826776, -0.53826776,\n",
       "                          -0.58082096, -0.58082096]),\n",
       "              'yaxis': 'y2'},\n",
       "             {'line': {'width': 0},\n",
       "              'marker': {'color': '#444'},\n",
       "              'mode': 'lines',\n",
       "              'name': 'Upper Bound',\n",
       "              'showlegend': False,\n",
       "              'type': 'scatter',\n",
       "              'x': array(['0.00', '0.00 - 0.07', '0.07 - 0.20', '0.20 - 0.22', '0.22 - 0.25',\n",
       "                          '0.25 - 0.27', '0.27 - 0.30', '0.30 - 0.32', '0.32 - 0.35',\n",
       "                          '0.35 - 0.37', '0.37 - 0.40', '0.40 - 0.43', '0.43 - 0.47',\n",
       "                          '0.47 - 0.52', '0.52 - 0.59', '0.59 - 0.67', '0.67+'], dtype=object),\n",
       "              'xaxis': 'x',\n",
       "              'y': array([        nan, -0.27879433, -0.4102412 , -0.46326776, -0.46326776,\n",
       "                          -0.46326776, -0.46326776, -0.46326776, -0.46326776, -0.46326776,\n",
       "                          -0.46326776, -0.46326776, -0.452958  , -0.53826776, -0.53826776,\n",
       "                          -0.52091559, -0.58082096]),\n",
       "              'yaxis': 'y2'},\n",
       "             {'fill': 'tonexty',\n",
       "              'fillcolor': 'rgba(68, 68, 68, 0.3)',\n",
       "              'line': {'width': 0},\n",
       "              'marker': {'color': '#444'},\n",
       "              'mode': 'lines',\n",
       "              'name': 'Lower Bound',\n",
       "              'showlegend': False,\n",
       "              'type': 'scatter',\n",
       "              'x': array(['0.00', '0.00 - 0.07', '0.07 - 0.20', '0.20 - 0.22', '0.22 - 0.25',\n",
       "                          '0.25 - 0.27', '0.27 - 0.30', '0.30 - 0.32', '0.32 - 0.35',\n",
       "                          '0.35 - 0.37', '0.37 - 0.40', '0.40 - 0.43', '0.43 - 0.47',\n",
       "                          '0.47 - 0.52', '0.52 - 0.59', '0.59 - 0.67', '0.67+'], dtype=object),\n",
       "              'xaxis': 'x',\n",
       "              'y': array([        nan, -0.5722695 , -0.51629433, -0.46326776, -0.46326776,\n",
       "                          -0.46326776, -0.46326776, -0.46326776, -0.46326776, -0.46326776,\n",
       "                          -0.46326776, -0.46326776, -0.62357752, -0.53826776, -0.53826776,\n",
       "                          -0.64072632, -0.58082096]),\n",
       "              'yaxis': 'y2'},\n",
       "             {'marker': {'color': '#C1C7D0'},\n",
       "              'name': 'Frequency',\n",
       "              'type': 'bar',\n",
       "              'x': array(['0.00', '0.00 - 0.07', '0.07 - 0.20', '0.20 - 0.22', '0.22 - 0.25',\n",
       "                          '0.25 - 0.27', '0.27 - 0.30', '0.30 - 0.32', '0.32 - 0.35',\n",
       "                          '0.35 - 0.37', '0.37 - 0.40', '0.40 - 0.43', '0.43 - 0.47',\n",
       "                          '0.47 - 0.52', '0.52 - 0.59', '0.59 - 0.67', '0.67+'], dtype=object),\n",
       "              'xaxis': 'x',\n",
       "              'y': array([  0.,  47.,  53.,  39.,  40.,  52.,  46.,  42., 220.,  47.,  39.,  49.,\n",
       "                           40.,  48.,  40.,  47.,  42.]),\n",
       "              'yaxis': 'y'}],\n",
       "    'layout': {'plot_bgcolor': 'white',\n",
       "               'template': '...',\n",
       "               'xaxis': {'anchor': 'y', 'domain': [0.0, 0.94], 'showgrid': False, 'title': {'text': 'Age'}},\n",
       "               'yaxis': {'anchor': 'x',\n",
       "                         'domain': [0.0, 1.0],\n",
       "                         'showgrid': False,\n",
       "                         'side': 'right',\n",
       "                         'title': {'text': 'Frequency'}},\n",
       "               'yaxis2': {'anchor': 'x', 'overlaying': 'y', 'showgrid': False, 'side': 'left'}}\n",
       "})"
      ]
     },
     "execution_count": 11,
     "metadata": {},
     "output_type": "execute_result"
    }
   ],
   "source": [
    "plot_ale([m1,m2,m3,m4,m5], [x.xs,x.xs,x.xs,x.xs], \"Age\")"
   ]
  },
  {
   "cell_type": "code",
   "execution_count": null,
   "metadata": {},
   "outputs": [],
   "source": [
    "from model_helper import model_data"
   ]
  },
  {
   "cell_type": "code",
   "execution_count": null,
   "metadata": {},
   "outputs": [],
   "source": [
    "test = model_data(df, cat, cont, \"Survived\")"
   ]
  },
  {
   "cell_type": "code",
   "execution_count": null,
   "metadata": {},
   "outputs": [
    {
     "data": {
      "application/vnd.plotly.v1+json": {
       "config": {
        "plotlyServerURL": "https://plot.ly"
       },
       "data": [
        {
         "line": {
          "color": "#0052CC"
         },
         "mode": "lines",
         "name": "Age",
         "type": "scatter",
         "x": [
          "0.42",
          "0.42 - 6.00",
          "6.00 - 16.00",
          "16.00 - 18.00",
          "18.00 - 20.00",
          "20.00 - 22.00",
          "22.00 - 24.00",
          "24.00 - 26.00",
          "26.00 - 28.00",
          "28.00 - 30.00",
          "30.00 - 32.50",
          "32.50 - 35.00",
          "35.00 - 38.00",
          "38.00 - 42.00",
          "42.00 - 47.00",
          "47.00 - 54.00",
          "54.00+"
         ],
         "xaxis": "x",
         "y": [
          0,
          -0.2553191489361702,
          -0.5006021678040947,
          -0.5006021678040947,
          -0.5006021678040947,
          -0.5006021678040947,
          -0.5006021678040947,
          -0.5006021678040947,
          -0.5006021678040947,
          -0.5006021678040947,
          -0.5262431934451204,
          -0.5262431934451204,
          -0.6262431934451204,
          -0.6262431934451204,
          -0.6512431934451204,
          -0.6512431934451204,
          -0.6512431934451204
         ],
         "yaxis": "y2"
        },
        {
         "line": {
          "width": 0
         },
         "marker": {
          "color": "#444"
         },
         "mode": "lines",
         "name": "Upper Bound",
         "showlegend": false,
         "type": "scatter",
         "x": [
          "0.42",
          "0.42 - 6.00",
          "6.00 - 16.00",
          "16.00 - 18.00",
          "18.00 - 20.00",
          "20.00 - 22.00",
          "22.00 - 24.00",
          "24.00 - 26.00",
          "26.00 - 28.00",
          "28.00 - 30.00",
          "30.00 - 32.50",
          "32.50 - 35.00",
          "35.00 - 38.00",
          "38.00 - 42.00",
          "42.00 - 47.00",
          "47.00 - 54.00",
          "54.00+"
         ],
         "xaxis": "x",
         "y": [
          null,
          -0.12590876641044446,
          -0.36923689782383773,
          -0.5006021678040947,
          -0.5006021678040947,
          -0.5006021678040947,
          -0.5006021678040947,
          -0.5006021678040947,
          -0.5006021678040947,
          -0.5006021678040947,
          -0.47433565076370665,
          -0.5262431934451204,
          -0.5290762650207972,
          -0.6262431934451204,
          -0.6006759206517522,
          -0.6512431934451204,
          -0.6512431934451204
         ],
         "yaxis": "y2"
        },
        {
         "fill": "tonexty",
         "fillcolor": "rgba(68, 68, 68, 0.3)",
         "line": {
          "width": 0
         },
         "marker": {
          "color": "#444"
         },
         "mode": "lines",
         "name": "Lower Bound",
         "showlegend": false,
         "type": "scatter",
         "x": [
          "0.42",
          "0.42 - 6.00",
          "6.00 - 16.00",
          "16.00 - 18.00",
          "18.00 - 20.00",
          "20.00 - 22.00",
          "22.00 - 24.00",
          "24.00 - 26.00",
          "26.00 - 28.00",
          "28.00 - 30.00",
          "30.00 - 32.50",
          "32.50 - 35.00",
          "35.00 - 38.00",
          "38.00 - 42.00",
          "42.00 - 47.00",
          "47.00 - 54.00",
          "54.00+"
         ],
         "xaxis": "x",
         "y": [
          null,
          -0.3847295314618959,
          -0.6319674377843517,
          -0.5006021678040947,
          -0.5006021678040947,
          -0.5006021678040947,
          -0.5006021678040947,
          -0.5006021678040947,
          -0.5006021678040947,
          -0.5006021678040947,
          -0.5781507361265341,
          -0.5262431934451204,
          -0.7234101218694435,
          -0.6262431934451204,
          -0.7018104662384885,
          -0.6512431934451204,
          -0.6512431934451204
         ],
         "yaxis": "y2"
        },
        {
         "marker": {
          "color": "#C1C7D0"
         },
         "name": "Frequency",
         "type": "bar",
         "x": [
          "0.42",
          "0.42 - 6.00",
          "6.00 - 16.00",
          "16.00 - 18.00",
          "18.00 - 20.00",
          "20.00 - 22.00",
          "22.00 - 24.00",
          "24.00 - 26.00",
          "26.00 - 28.00",
          "28.00 - 30.00",
          "30.00 - 32.50",
          "32.50 - 35.00",
          "35.00 - 38.00",
          "38.00 - 42.00",
          "42.00 - 47.00",
          "47.00 - 54.00",
          "54.00+"
         ],
         "xaxis": "x",
         "y": [
          0,
          47,
          53,
          39,
          40,
          52,
          46,
          42,
          220,
          47,
          39,
          49,
          40,
          48,
          40,
          47,
          42
         ],
         "yaxis": "y"
        }
       ],
       "layout": {
        "plot_bgcolor": "white",
        "template": {
         "data": {
          "bar": [
           {
            "error_x": {
             "color": "#2a3f5f"
            },
            "error_y": {
             "color": "#2a3f5f"
            },
            "marker": {
             "line": {
              "color": "#E5ECF6",
              "width": 0.5
             },
             "pattern": {
              "fillmode": "overlay",
              "size": 10,
              "solidity": 0.2
             }
            },
            "type": "bar"
           }
          ],
          "barpolar": [
           {
            "marker": {
             "line": {
              "color": "#E5ECF6",
              "width": 0.5
             },
             "pattern": {
              "fillmode": "overlay",
              "size": 10,
              "solidity": 0.2
             }
            },
            "type": "barpolar"
           }
          ],
          "carpet": [
           {
            "aaxis": {
             "endlinecolor": "#2a3f5f",
             "gridcolor": "white",
             "linecolor": "white",
             "minorgridcolor": "white",
             "startlinecolor": "#2a3f5f"
            },
            "baxis": {
             "endlinecolor": "#2a3f5f",
             "gridcolor": "white",
             "linecolor": "white",
             "minorgridcolor": "white",
             "startlinecolor": "#2a3f5f"
            },
            "type": "carpet"
           }
          ],
          "choropleth": [
           {
            "colorbar": {
             "outlinewidth": 0,
             "ticks": ""
            },
            "type": "choropleth"
           }
          ],
          "contour": [
           {
            "colorbar": {
             "outlinewidth": 0,
             "ticks": ""
            },
            "colorscale": [
             [
              0,
              "#0d0887"
             ],
             [
              0.1111111111111111,
              "#46039f"
             ],
             [
              0.2222222222222222,
              "#7201a8"
             ],
             [
              0.3333333333333333,
              "#9c179e"
             ],
             [
              0.4444444444444444,
              "#bd3786"
             ],
             [
              0.5555555555555556,
              "#d8576b"
             ],
             [
              0.6666666666666666,
              "#ed7953"
             ],
             [
              0.7777777777777778,
              "#fb9f3a"
             ],
             [
              0.8888888888888888,
              "#fdca26"
             ],
             [
              1,
              "#f0f921"
             ]
            ],
            "type": "contour"
           }
          ],
          "contourcarpet": [
           {
            "colorbar": {
             "outlinewidth": 0,
             "ticks": ""
            },
            "type": "contourcarpet"
           }
          ],
          "heatmap": [
           {
            "colorbar": {
             "outlinewidth": 0,
             "ticks": ""
            },
            "colorscale": [
             [
              0,
              "#0d0887"
             ],
             [
              0.1111111111111111,
              "#46039f"
             ],
             [
              0.2222222222222222,
              "#7201a8"
             ],
             [
              0.3333333333333333,
              "#9c179e"
             ],
             [
              0.4444444444444444,
              "#bd3786"
             ],
             [
              0.5555555555555556,
              "#d8576b"
             ],
             [
              0.6666666666666666,
              "#ed7953"
             ],
             [
              0.7777777777777778,
              "#fb9f3a"
             ],
             [
              0.8888888888888888,
              "#fdca26"
             ],
             [
              1,
              "#f0f921"
             ]
            ],
            "type": "heatmap"
           }
          ],
          "heatmapgl": [
           {
            "colorbar": {
             "outlinewidth": 0,
             "ticks": ""
            },
            "colorscale": [
             [
              0,
              "#0d0887"
             ],
             [
              0.1111111111111111,
              "#46039f"
             ],
             [
              0.2222222222222222,
              "#7201a8"
             ],
             [
              0.3333333333333333,
              "#9c179e"
             ],
             [
              0.4444444444444444,
              "#bd3786"
             ],
             [
              0.5555555555555556,
              "#d8576b"
             ],
             [
              0.6666666666666666,
              "#ed7953"
             ],
             [
              0.7777777777777778,
              "#fb9f3a"
             ],
             [
              0.8888888888888888,
              "#fdca26"
             ],
             [
              1,
              "#f0f921"
             ]
            ],
            "type": "heatmapgl"
           }
          ],
          "histogram": [
           {
            "marker": {
             "pattern": {
              "fillmode": "overlay",
              "size": 10,
              "solidity": 0.2
             }
            },
            "type": "histogram"
           }
          ],
          "histogram2d": [
           {
            "colorbar": {
             "outlinewidth": 0,
             "ticks": ""
            },
            "colorscale": [
             [
              0,
              "#0d0887"
             ],
             [
              0.1111111111111111,
              "#46039f"
             ],
             [
              0.2222222222222222,
              "#7201a8"
             ],
             [
              0.3333333333333333,
              "#9c179e"
             ],
             [
              0.4444444444444444,
              "#bd3786"
             ],
             [
              0.5555555555555556,
              "#d8576b"
             ],
             [
              0.6666666666666666,
              "#ed7953"
             ],
             [
              0.7777777777777778,
              "#fb9f3a"
             ],
             [
              0.8888888888888888,
              "#fdca26"
             ],
             [
              1,
              "#f0f921"
             ]
            ],
            "type": "histogram2d"
           }
          ],
          "histogram2dcontour": [
           {
            "colorbar": {
             "outlinewidth": 0,
             "ticks": ""
            },
            "colorscale": [
             [
              0,
              "#0d0887"
             ],
             [
              0.1111111111111111,
              "#46039f"
             ],
             [
              0.2222222222222222,
              "#7201a8"
             ],
             [
              0.3333333333333333,
              "#9c179e"
             ],
             [
              0.4444444444444444,
              "#bd3786"
             ],
             [
              0.5555555555555556,
              "#d8576b"
             ],
             [
              0.6666666666666666,
              "#ed7953"
             ],
             [
              0.7777777777777778,
              "#fb9f3a"
             ],
             [
              0.8888888888888888,
              "#fdca26"
             ],
             [
              1,
              "#f0f921"
             ]
            ],
            "type": "histogram2dcontour"
           }
          ],
          "mesh3d": [
           {
            "colorbar": {
             "outlinewidth": 0,
             "ticks": ""
            },
            "type": "mesh3d"
           }
          ],
          "parcoords": [
           {
            "line": {
             "colorbar": {
              "outlinewidth": 0,
              "ticks": ""
             }
            },
            "type": "parcoords"
           }
          ],
          "pie": [
           {
            "automargin": true,
            "type": "pie"
           }
          ],
          "scatter": [
           {
            "fillpattern": {
             "fillmode": "overlay",
             "size": 10,
             "solidity": 0.2
            },
            "type": "scatter"
           }
          ],
          "scatter3d": [
           {
            "line": {
             "colorbar": {
              "outlinewidth": 0,
              "ticks": ""
             }
            },
            "marker": {
             "colorbar": {
              "outlinewidth": 0,
              "ticks": ""
             }
            },
            "type": "scatter3d"
           }
          ],
          "scattercarpet": [
           {
            "marker": {
             "colorbar": {
              "outlinewidth": 0,
              "ticks": ""
             }
            },
            "type": "scattercarpet"
           }
          ],
          "scattergeo": [
           {
            "marker": {
             "colorbar": {
              "outlinewidth": 0,
              "ticks": ""
             }
            },
            "type": "scattergeo"
           }
          ],
          "scattergl": [
           {
            "marker": {
             "colorbar": {
              "outlinewidth": 0,
              "ticks": ""
             }
            },
            "type": "scattergl"
           }
          ],
          "scattermapbox": [
           {
            "marker": {
             "colorbar": {
              "outlinewidth": 0,
              "ticks": ""
             }
            },
            "type": "scattermapbox"
           }
          ],
          "scatterpolar": [
           {
            "marker": {
             "colorbar": {
              "outlinewidth": 0,
              "ticks": ""
             }
            },
            "type": "scatterpolar"
           }
          ],
          "scatterpolargl": [
           {
            "marker": {
             "colorbar": {
              "outlinewidth": 0,
              "ticks": ""
             }
            },
            "type": "scatterpolargl"
           }
          ],
          "scatterternary": [
           {
            "marker": {
             "colorbar": {
              "outlinewidth": 0,
              "ticks": ""
             }
            },
            "type": "scatterternary"
           }
          ],
          "surface": [
           {
            "colorbar": {
             "outlinewidth": 0,
             "ticks": ""
            },
            "colorscale": [
             [
              0,
              "#0d0887"
             ],
             [
              0.1111111111111111,
              "#46039f"
             ],
             [
              0.2222222222222222,
              "#7201a8"
             ],
             [
              0.3333333333333333,
              "#9c179e"
             ],
             [
              0.4444444444444444,
              "#bd3786"
             ],
             [
              0.5555555555555556,
              "#d8576b"
             ],
             [
              0.6666666666666666,
              "#ed7953"
             ],
             [
              0.7777777777777778,
              "#fb9f3a"
             ],
             [
              0.8888888888888888,
              "#fdca26"
             ],
             [
              1,
              "#f0f921"
             ]
            ],
            "type": "surface"
           }
          ],
          "table": [
           {
            "cells": {
             "fill": {
              "color": "#EBF0F8"
             },
             "line": {
              "color": "white"
             }
            },
            "header": {
             "fill": {
              "color": "#C8D4E3"
             },
             "line": {
              "color": "white"
             }
            },
            "type": "table"
           }
          ]
         },
         "layout": {
          "annotationdefaults": {
           "arrowcolor": "#2a3f5f",
           "arrowhead": 0,
           "arrowwidth": 1
          },
          "autotypenumbers": "strict",
          "coloraxis": {
           "colorbar": {
            "outlinewidth": 0,
            "ticks": ""
           }
          },
          "colorscale": {
           "diverging": [
            [
             0,
             "#8e0152"
            ],
            [
             0.1,
             "#c51b7d"
            ],
            [
             0.2,
             "#de77ae"
            ],
            [
             0.3,
             "#f1b6da"
            ],
            [
             0.4,
             "#fde0ef"
            ],
            [
             0.5,
             "#f7f7f7"
            ],
            [
             0.6,
             "#e6f5d0"
            ],
            [
             0.7,
             "#b8e186"
            ],
            [
             0.8,
             "#7fbc41"
            ],
            [
             0.9,
             "#4d9221"
            ],
            [
             1,
             "#276419"
            ]
           ],
           "sequential": [
            [
             0,
             "#0d0887"
            ],
            [
             0.1111111111111111,
             "#46039f"
            ],
            [
             0.2222222222222222,
             "#7201a8"
            ],
            [
             0.3333333333333333,
             "#9c179e"
            ],
            [
             0.4444444444444444,
             "#bd3786"
            ],
            [
             0.5555555555555556,
             "#d8576b"
            ],
            [
             0.6666666666666666,
             "#ed7953"
            ],
            [
             0.7777777777777778,
             "#fb9f3a"
            ],
            [
             0.8888888888888888,
             "#fdca26"
            ],
            [
             1,
             "#f0f921"
            ]
           ],
           "sequentialminus": [
            [
             0,
             "#0d0887"
            ],
            [
             0.1111111111111111,
             "#46039f"
            ],
            [
             0.2222222222222222,
             "#7201a8"
            ],
            [
             0.3333333333333333,
             "#9c179e"
            ],
            [
             0.4444444444444444,
             "#bd3786"
            ],
            [
             0.5555555555555556,
             "#d8576b"
            ],
            [
             0.6666666666666666,
             "#ed7953"
            ],
            [
             0.7777777777777778,
             "#fb9f3a"
            ],
            [
             0.8888888888888888,
             "#fdca26"
            ],
            [
             1,
             "#f0f921"
            ]
           ]
          },
          "colorway": [
           "#636efa",
           "#EF553B",
           "#00cc96",
           "#ab63fa",
           "#FFA15A",
           "#19d3f3",
           "#FF6692",
           "#B6E880",
           "#FF97FF",
           "#FECB52"
          ],
          "font": {
           "color": "#2a3f5f"
          },
          "geo": {
           "bgcolor": "white",
           "lakecolor": "white",
           "landcolor": "#E5ECF6",
           "showlakes": true,
           "showland": true,
           "subunitcolor": "white"
          },
          "hoverlabel": {
           "align": "left"
          },
          "hovermode": "closest",
          "mapbox": {
           "style": "light"
          },
          "paper_bgcolor": "white",
          "plot_bgcolor": "#E5ECF6",
          "polar": {
           "angularaxis": {
            "gridcolor": "white",
            "linecolor": "white",
            "ticks": ""
           },
           "bgcolor": "#E5ECF6",
           "radialaxis": {
            "gridcolor": "white",
            "linecolor": "white",
            "ticks": ""
           }
          },
          "scene": {
           "xaxis": {
            "backgroundcolor": "#E5ECF6",
            "gridcolor": "white",
            "gridwidth": 2,
            "linecolor": "white",
            "showbackground": true,
            "ticks": "",
            "zerolinecolor": "white"
           },
           "yaxis": {
            "backgroundcolor": "#E5ECF6",
            "gridcolor": "white",
            "gridwidth": 2,
            "linecolor": "white",
            "showbackground": true,
            "ticks": "",
            "zerolinecolor": "white"
           },
           "zaxis": {
            "backgroundcolor": "#E5ECF6",
            "gridcolor": "white",
            "gridwidth": 2,
            "linecolor": "white",
            "showbackground": true,
            "ticks": "",
            "zerolinecolor": "white"
           }
          },
          "shapedefaults": {
           "line": {
            "color": "#2a3f5f"
           }
          },
          "ternary": {
           "aaxis": {
            "gridcolor": "white",
            "linecolor": "white",
            "ticks": ""
           },
           "baxis": {
            "gridcolor": "white",
            "linecolor": "white",
            "ticks": ""
           },
           "bgcolor": "#E5ECF6",
           "caxis": {
            "gridcolor": "white",
            "linecolor": "white",
            "ticks": ""
           }
          },
          "title": {
           "x": 0.05
          },
          "xaxis": {
           "automargin": true,
           "gridcolor": "white",
           "linecolor": "white",
           "ticks": "",
           "title": {
            "standoff": 15
           },
           "zerolinecolor": "white",
           "zerolinewidth": 2
          },
          "yaxis": {
           "automargin": true,
           "gridcolor": "white",
           "linecolor": "white",
           "ticks": "",
           "title": {
            "standoff": 15
           },
           "zerolinecolor": "white",
           "zerolinewidth": 2
          }
         }
        },
        "xaxis": {
         "anchor": "y",
         "domain": [
          0,
          0.94
         ],
         "showgrid": false,
         "title": {
          "text": "Age"
         }
        },
        "yaxis": {
         "anchor": "x",
         "domain": [
          0,
          1
         ],
         "showgrid": false,
         "side": "right",
         "title": {
          "text": "Frequency"
         }
        },
        "yaxis2": {
         "anchor": "x",
         "overlaying": "y",
         "showgrid": false,
         "side": "left"
        }
       }
      }
     },
     "metadata": {},
     "output_type": "display_data"
    }
   ],
   "source": [
    "test.plot_ale(\"Age\")"
   ]
  }
 ],
 "metadata": {
  "interpreter": {
   "hash": "f8b3bb2df074a9645b268fc5e0323b79d60abefc1a233cb02b3a46a3291b858c"
  },
  "kernelspec": {
   "display_name": "Python 3.10.2 ('test-env': venv)",
   "language": "python",
   "name": "python3"
  },
  "language_info": {
   "codemirror_mode": {
    "name": "ipython",
    "version": 3
   },
   "file_extension": ".py",
   "mimetype": "text/x-python",
   "name": "python",
   "nbconvert_exporter": "python",
   "pygments_lexer": "ipython3",
   "version": "3.10.2"
  },
  "orig_nbformat": 4
 },
 "nbformat": 4,
 "nbformat_minor": 2
}
